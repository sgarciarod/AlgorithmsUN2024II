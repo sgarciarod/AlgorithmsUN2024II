{
  "cells": [
    {
      "cell_type": "code",
      "execution_count": 1,
      "metadata": {
        "colab": {
          "base_uri": "https://localhost:8080/"
        },
        "id": "im-VVd1__7VU",
        "outputId": "30d55023-1be0-4829-a560-68126a27c51c"
      },
      "outputs": [
        {
          "output_type": "stream",
          "name": "stdout",
          "text": [
            "processor\t: 0\n",
            "vendor_id\t: GenuineIntel\n",
            "cpu family\t: 6\n",
            "model\t\t: 79\n",
            "model name\t: Intel(R) Xeon(R) CPU @ 2.20GHz\n",
            "stepping\t: 0\n",
            "microcode\t: 0xffffffff\n",
            "cpu MHz\t\t: 2199.998\n",
            "cache size\t: 56320 KB\n",
            "physical id\t: 0\n",
            "siblings\t: 2\n",
            "core id\t\t: 0\n",
            "cpu cores\t: 1\n",
            "apicid\t\t: 0\n",
            "initial apicid\t: 0\n",
            "fpu\t\t: yes\n",
            "fpu_exception\t: yes\n",
            "cpuid level\t: 13\n",
            "wp\t\t: yes\n",
            "flags\t\t: fpu vme de pse tsc msr pae mce cx8 apic sep mtrr pge mca cmov pat pse36 clflush mmx fxsr sse sse2 ss ht syscall nx pdpe1gb rdtscp lm constant_tsc rep_good nopl xtopology nonstop_tsc cpuid tsc_known_freq pni pclmulqdq ssse3 fma cx16 pcid sse4_1 sse4_2 x2apic movbe popcnt aes xsave avx f16c rdrand hypervisor lahf_lm abm 3dnowprefetch invpcid_single ssbd ibrs ibpb stibp fsgsbase tsc_adjust bmi1 hle avx2 smep bmi2 erms invpcid rtm rdseed adx smap xsaveopt arat md_clear arch_capabilities\n",
            "bugs\t\t: cpu_meltdown spectre_v1 spectre_v2 spec_store_bypass l1tf mds swapgs taa mmio_stale_data retbleed bhi\n",
            "bogomips\t: 4399.99\n",
            "clflush size\t: 64\n",
            "cache_alignment\t: 64\n",
            "address sizes\t: 46 bits physical, 48 bits virtual\n",
            "power management:\n",
            "\n",
            "processor\t: 1\n",
            "vendor_id\t: GenuineIntel\n",
            "cpu family\t: 6\n",
            "model\t\t: 79\n",
            "model name\t: Intel(R) Xeon(R) CPU @ 2.20GHz\n",
            "stepping\t: 0\n",
            "microcode\t: 0xffffffff\n",
            "cpu MHz\t\t: 2199.998\n",
            "cache size\t: 56320 KB\n",
            "physical id\t: 0\n",
            "siblings\t: 2\n",
            "core id\t\t: 0\n",
            "cpu cores\t: 1\n",
            "apicid\t\t: 1\n",
            "initial apicid\t: 1\n",
            "fpu\t\t: yes\n",
            "fpu_exception\t: yes\n",
            "cpuid level\t: 13\n",
            "wp\t\t: yes\n",
            "flags\t\t: fpu vme de pse tsc msr pae mce cx8 apic sep mtrr pge mca cmov pat pse36 clflush mmx fxsr sse sse2 ss ht syscall nx pdpe1gb rdtscp lm constant_tsc rep_good nopl xtopology nonstop_tsc cpuid tsc_known_freq pni pclmulqdq ssse3 fma cx16 pcid sse4_1 sse4_2 x2apic movbe popcnt aes xsave avx f16c rdrand hypervisor lahf_lm abm 3dnowprefetch invpcid_single ssbd ibrs ibpb stibp fsgsbase tsc_adjust bmi1 hle avx2 smep bmi2 erms invpcid rtm rdseed adx smap xsaveopt arat md_clear arch_capabilities\n",
            "bugs\t\t: cpu_meltdown spectre_v1 spectre_v2 spec_store_bypass l1tf mds swapgs taa mmio_stale_data retbleed bhi\n",
            "bogomips\t: 4399.99\n",
            "clflush size\t: 64\n",
            "cache_alignment\t: 64\n",
            "address sizes\t: 46 bits physical, 48 bits virtual\n",
            "power management:\n",
            "\n"
          ]
        }
      ],
      "source": [
        " !cat /proc/cpuinfo"
      ]
    },
    {
      "cell_type": "markdown",
      "metadata": {
        "id": "N1ok_-56OjB1"
      },
      "source": [
        "# I Solving the Sum of Two Digits Programming Challenge\n",
        "\n"
      ]
    },
    {
      "cell_type": "markdown",
      "metadata": {
        "id": "MMY7kmDSO0KM"
      },
      "source": [
        "## C++"
      ]
    },
    {
      "cell_type": "code",
      "execution_count": 2,
      "metadata": {
        "colab": {
          "base_uri": "https://localhost:8080/"
        },
        "id": "2pGGf9BkPNIk",
        "outputId": "18a77229-1d86-47a7-fb13-bac1539669ed"
      },
      "outputs": [
        {
          "output_type": "stream",
          "name": "stdout",
          "text": [
            "Writing APlusB.cpp\n"
          ]
        }
      ],
      "source": [
        "%%writefile APlusB.cpp\n",
        "#include <iostream>\n",
        "\n",
        "int sum_of_two_digits(int first_digit, int second_digit) {\n",
        "    return first_digit + second_digit;\n",
        "}\n",
        "\n",
        "int main() {\n",
        "    int a = 0;\n",
        "    int b = 0;\n",
        "    std::cin >> a;\n",
        "    std::cin >> b;\n",
        "    std::cout << sum_of_two_digits(a, b);\n",
        "    return 0;\n",
        "}"
      ]
    },
    {
      "cell_type": "code",
      "execution_count": 3,
      "metadata": {
        "colab": {
          "base_uri": "https://localhost:8080/"
        },
        "id": "0G3ZKOYAPXSU",
        "outputId": "10deefd1-2ff9-474d-a37a-18f4656af719"
      },
      "outputs": [
        {
          "output_type": "stream",
          "name": "stdout",
          "text": [
            "^C\n"
          ]
        }
      ],
      "source": [
        "!g++ APlusB.cpp -o APlusB -std=c++11\n",
        "!./APlusB"
      ]
    },
    {
      "cell_type": "markdown",
      "source": [
        "Se detiene ya que tomó mucho tiempo en responder (más de 14 minutos)"
      ],
      "metadata": {
        "id": "dtZaakDXoXIP"
      }
    },
    {
      "cell_type": "markdown",
      "metadata": {
        "id": "iNkG2HqfTl9c"
      },
      "source": [
        "### Test input output files"
      ]
    },
    {
      "cell_type": "code",
      "execution_count": 4,
      "metadata": {
        "colab": {
          "base_uri": "https://localhost:8080/"
        },
        "id": "aTzU2efzMxly",
        "outputId": "45b5e7f9-f76d-491e-db9c-df165d211445"
      },
      "outputs": [
        {
          "output_type": "stream",
          "name": "stdout",
          "text": [
            "Writing input1.txt\n"
          ]
        }
      ],
      "source": [
        "%%writefile input1.txt\n",
        "4 8"
      ]
    },
    {
      "cell_type": "code",
      "execution_count": 5,
      "metadata": {
        "colab": {
          "base_uri": "https://localhost:8080/"
        },
        "id": "zBJ0Gc0NQRet",
        "outputId": "a7331df0-cd81-48d2-b089-bddef040493e"
      },
      "outputs": [
        {
          "output_type": "stream",
          "name": "stdout",
          "text": [
            "Writing output1.txt\n"
          ]
        }
      ],
      "source": [
        "%%writefile output1.txt\n",
        "12"
      ]
    },
    {
      "cell_type": "code",
      "execution_count": 6,
      "metadata": {
        "colab": {
          "base_uri": "https://localhost:8080/"
        },
        "id": "IjEcIx63PJAN",
        "outputId": "ed23a811-992f-49e4-c057-f29eac6fe2bc"
      },
      "outputs": [
        {
          "output_type": "stream",
          "name": "stdout",
          "text": [
            "Writing input2.txt\n"
          ]
        }
      ],
      "source": [
        "%%writefile input2.txt\n",
        "0 9"
      ]
    },
    {
      "cell_type": "code",
      "execution_count": 7,
      "metadata": {
        "colab": {
          "base_uri": "https://localhost:8080/"
        },
        "id": "Up9gOrxURTmd",
        "outputId": "2c936001-8d0a-408f-dc54-f9b4a659e406"
      },
      "outputs": [
        {
          "output_type": "stream",
          "name": "stdout",
          "text": [
            "Writing output2.txt\n"
          ]
        }
      ],
      "source": [
        "%%writefile output2.txt\n",
        "9"
      ]
    },
    {
      "cell_type": "code",
      "execution_count": 8,
      "metadata": {
        "colab": {
          "base_uri": "https://localhost:8080/"
        },
        "id": "PST6G-s-Pwgc",
        "outputId": "27eea510-63ac-49c2-d350-de40fc95b9af"
      },
      "outputs": [
        {
          "output_type": "stream",
          "name": "stdout",
          "text": [
            "12"
          ]
        }
      ],
      "source": [
        "!./APlusB < input1.txt"
      ]
    },
    {
      "cell_type": "code",
      "execution_count": 9,
      "metadata": {
        "colab": {
          "base_uri": "https://localhost:8080/"
        },
        "id": "cKxZOjSlRfIN",
        "outputId": "6984e860-7b55-4f5e-f82e-39f3091cf672"
      },
      "outputs": [
        {
          "output_type": "stream",
          "name": "stdout",
          "text": [
            "9"
          ]
        }
      ],
      "source": [
        "!./APlusB < input2.txt"
      ]
    },
    {
      "cell_type": "markdown",
      "metadata": {
        "id": "Qw2TQWCCUwqk"
      },
      "source": [
        "### Comparing files with grep\n",
        "\n",
        "https://askubuntu.com/questions/546796/comparing-two-text-files"
      ]
    },
    {
      "cell_type": "code",
      "execution_count": 10,
      "metadata": {
        "id": "WVIaAmMKU4QM"
      },
      "outputs": [],
      "source": [
        "!grep -xvFf output1.txt output1.txt"
      ]
    },
    {
      "cell_type": "code",
      "execution_count": 11,
      "metadata": {
        "colab": {
          "base_uri": "https://localhost:8080/"
        },
        "id": "MQU8gPPjQuYO",
        "outputId": "e7d94655-e51d-4c85-866c-f3fa54b07bb1"
      },
      "outputs": [
        {
          "output_type": "stream",
          "name": "stdout",
          "text": [
            "9\n"
          ]
        }
      ],
      "source": [
        "!grep -xvFf output1.txt output2.txt"
      ]
    },
    {
      "cell_type": "code",
      "execution_count": 12,
      "metadata": {
        "colab": {
          "base_uri": "https://localhost:8080/"
        },
        "id": "jYL9OuYBTD_l",
        "outputId": "15330f85-41af-42b5-a320-06998d8f5967"
      },
      "outputs": [
        {
          "output_type": "stream",
          "name": "stdout",
          "text": [
            "12\n"
          ]
        }
      ],
      "source": [
        "!grep -xvFf output2.txt output1.txt"
      ]
    },
    {
      "cell_type": "code",
      "execution_count": 13,
      "metadata": {
        "id": "Jlja0Xm4TX9M"
      },
      "outputs": [],
      "source": [
        "!./APlusB < input1.txt> ctest1.txt\n",
        "!grep -xvFf output1.txt ctest1.txt"
      ]
    },
    {
      "cell_type": "code",
      "execution_count": 14,
      "metadata": {
        "id": "g9OIUZA_QLCQ"
      },
      "outputs": [],
      "source": [
        "!./APlusB < input2.txt > ctest2.txt\n",
        "!grep -xvFf output2.txt ctest2.txt"
      ]
    },
    {
      "cell_type": "markdown",
      "metadata": {
        "id": "3BgOaDjUVJk6"
      },
      "source": [
        "## Python"
      ]
    },
    {
      "cell_type": "code",
      "execution_count": 15,
      "metadata": {
        "colab": {
          "base_uri": "https://localhost:8080/"
        },
        "id": "DBvl-T0CTN_8",
        "outputId": "db0ef8ce-a3d1-4a97-cfee-fe62f1e6fa20"
      },
      "outputs": [
        {
          "output_type": "stream",
          "name": "stdout",
          "text": [
            "Writing sum.py\n"
          ]
        }
      ],
      "source": [
        "%%writefile sum.py\n",
        "# python3\n",
        "\n",
        "def sum_of_two_digits(first_digit, second_digit):\n",
        "    return first_digit + second_digit\n",
        "\n",
        "if __name__ == '__main__':\n",
        "    a, b = map(int, input().split())\n",
        "    print(sum_of_two_digits(a, b))"
      ]
    },
    {
      "cell_type": "code",
      "execution_count": 16,
      "metadata": {
        "id": "QKoKM11_WGyF",
        "colab": {
          "base_uri": "https://localhost:8080/"
        },
        "outputId": "63b2c586-00c7-4349-f801-5d70d717cb1c"
      },
      "outputs": [
        {
          "output_type": "stream",
          "name": "stdout",
          "text": [
            "Traceback (most recent call last):\n",
            "  File \"/content/sum.py\", line 7, in <module>\n",
            "    a, b = map(int, input().split())\n",
            "KeyboardInterrupt\n",
            "^C\n"
          ]
        }
      ],
      "source": [
        "!python sum.py"
      ]
    },
    {
      "cell_type": "markdown",
      "source": [
        "Se detiene ya que tomó mucho tiempo en ejecutarse (más de 14 minutos)\n"
      ],
      "metadata": {
        "id": "l7NmaULjrxvz"
      }
    },
    {
      "cell_type": "code",
      "execution_count": 17,
      "metadata": {
        "id": "cocFbPRTWrqt"
      },
      "outputs": [],
      "source": [
        "!python sum.py  < input1.txt> ptest1.txt\n",
        "!grep -xvFf output1.txt ptest1.txt"
      ]
    },
    {
      "cell_type": "code",
      "execution_count": 18,
      "metadata": {
        "id": "MorKTa-XXASN"
      },
      "outputs": [],
      "source": [
        "!python sum.py  < input2.txt> ptest2.txt\n",
        "!grep -xvFf output2.txt ptest2.txt"
      ]
    },
    {
      "cell_type": "markdown",
      "metadata": {
        "id": "uvP-mOubW_5F"
      },
      "source": [
        "# II Solving The Maximum Pairwise Product Programming Challenge in C++"
      ]
    },
    {
      "cell_type": "markdown",
      "metadata": {
        "id": "C12yoFR6Xonl"
      },
      "source": [
        "## C++\n",
        "\n",
        "$$ T(n) < 6 n^2 = O(n^2)$$"
      ]
    },
    {
      "cell_type": "code",
      "execution_count": 19,
      "metadata": {
        "id": "3LpfoGv2Ae81",
        "colab": {
          "base_uri": "https://localhost:8080/"
        },
        "outputId": "1be381f2-69a8-4406-fbac-1e8fa9e48673"
      },
      "outputs": [
        {
          "output_type": "stream",
          "name": "stdout",
          "text": [
            "Writing max_pairwise_product_full.cpp\n"
          ]
        }
      ],
      "source": [
        "%%writefile max_pairwise_product_full.cpp\n",
        "#include <iostream>\n",
        "#include <vector>\n",
        "#include <algorithm>\n",
        "\n",
        "int MaxPairwiseProduct(const std::vector<int>& numbers) {\n",
        "    int max_product = 0;\n",
        "    int aux_product = 0;\n",
        "    int n = numbers.size();\n",
        "\n",
        "    for (int first = 0; first < n; ++first) {\n",
        "        for (int second = 0; second < n; ++second) {\n",
        "          if ( first != second ){\n",
        "                aux_product = numbers[first] * numbers[second];\n",
        "                if (aux_product > max_product)  max_product = aux_product;\n",
        "          }\n",
        "        }\n",
        "    }\n",
        "\n",
        "    return max_product;\n",
        "}\n",
        "\n",
        "int main() {\n",
        "    int n;\n",
        "    std::cin >> n;\n",
        "    std::vector<int> numbers(n);\n",
        "    for (int i = 0; i < n; ++i) {\n",
        "        std::cin >> numbers[i];\n",
        "    }\n",
        "\n",
        "    std::cout << MaxPairwiseProduct(numbers) << \"\\n\";\n",
        "    return 0;\n",
        "}"
      ]
    },
    {
      "cell_type": "markdown",
      "metadata": {
        "id": "m75IQQPbEHBS"
      },
      "source": [
        "#### Time Complexity\n",
        "$$\\left. \\begin{array}{llc}\n",
        " \\text{INSTRUCTION} & \\text{TYPE}& \\text{# EXECUTIONS}\\\\\n",
        "\\text{first != second} &  \\text{comparisons} &n^2 \\\\\n",
        "\\text{numbers[first] * numbers[second]}& \\ \\text{ products}  &n^2 - n \\\\\n",
        "\\text{max_product = aux_product} &  \\text{assigments} & [1, \\frac{n^2 - n}{2})  \n",
        "\\end{array}\\right\\}  =  O(n^2)$$"
      ]
    },
    {
      "cell_type": "code",
      "execution_count": 20,
      "metadata": {
        "id": "PCVo1h6nCF9k",
        "colab": {
          "base_uri": "https://localhost:8080/"
        },
        "outputId": "368e36be-3dc0-4de0-ee1d-79746f53479c"
      },
      "outputs": [
        {
          "output_type": "stream",
          "name": "stdout",
          "text": [
            "^C\n"
          ]
        }
      ],
      "source": [
        "!g++ max_pairwise_product_full.cpp -o max_pairwise_product_full\n",
        "!./max_pairwise_product_full"
      ]
    },
    {
      "cell_type": "markdown",
      "source": [
        "Se detiene ya que tomó much tiempo (más de 11 minutos)"
      ],
      "metadata": {
        "id": "QgjOBK8ZuiaF"
      }
    },
    {
      "cell_type": "markdown",
      "metadata": {
        "id": "e7KhxHGNS3i0"
      },
      "source": [
        "### Test 1: Small numbers"
      ]
    },
    {
      "cell_type": "code",
      "execution_count": 21,
      "metadata": {
        "id": "17npyXt7lYzA",
        "colab": {
          "base_uri": "https://localhost:8080/"
        },
        "outputId": "ad2ff54a-cfaa-4465-94d9-9eec63788f35"
      },
      "outputs": [
        {
          "output_type": "stream",
          "name": "stdout",
          "text": [
            "Writing input0.txt\n"
          ]
        }
      ],
      "source": [
        "%%writefile input0.txt\n",
        "10\n",
        "0 0 0 0 0 0 0 0 0 0"
      ]
    },
    {
      "cell_type": "code",
      "execution_count": 22,
      "metadata": {
        "id": "NooGEkJylezm",
        "colab": {
          "base_uri": "https://localhost:8080/"
        },
        "outputId": "da1f9032-3973-4f12-f6c6-66976dfea5ef"
      },
      "outputs": [
        {
          "output_type": "stream",
          "name": "stdout",
          "text": [
            "Writing output0.txt\n"
          ]
        }
      ],
      "source": [
        "%%writefile output0.txt\n",
        "0"
      ]
    },
    {
      "cell_type": "code",
      "execution_count": 23,
      "metadata": {
        "id": "R0yFaAOrlqrE"
      },
      "outputs": [],
      "source": [
        "!./max_pairwise_product_full< input0.txt > ctest0.txt\n",
        "!grep -xvFf output0.txt ctest0.txt"
      ]
    },
    {
      "cell_type": "code",
      "execution_count": 24,
      "metadata": {
        "id": "e1mmTzBgShT-",
        "colab": {
          "base_uri": "https://localhost:8080/"
        },
        "outputId": "3ffa9952-1320-4e30-9ead-07120d433079"
      },
      "outputs": [
        {
          "output_type": "stream",
          "name": "stdout",
          "text": [
            "Overwriting input1.txt\n"
          ]
        }
      ],
      "source": [
        "%%writefile input1.txt\n",
        "10\n",
        "1 2 3 4 5 6 7 8 9 10"
      ]
    },
    {
      "cell_type": "code",
      "execution_count": 25,
      "metadata": {
        "id": "vy_uI0x7TCId",
        "colab": {
          "base_uri": "https://localhost:8080/"
        },
        "outputId": "9b5b40fc-b68d-4ab4-85c1-ca5d0fd3a04f"
      },
      "outputs": [
        {
          "output_type": "stream",
          "name": "stdout",
          "text": [
            "/bin/bash: line 1: ./max_pairwise_product: No such file or directory\n"
          ]
        }
      ],
      "source": [
        "!./max_pairwise_product < input1.txt"
      ]
    },
    {
      "cell_type": "code",
      "execution_count": 26,
      "metadata": {
        "id": "xaj6f9bxC6D6",
        "colab": {
          "base_uri": "https://localhost:8080/"
        },
        "outputId": "ffe17818-c630-4e0e-9318-0fa4a84750b2"
      },
      "outputs": [
        {
          "output_type": "stream",
          "name": "stdout",
          "text": [
            "Overwriting output1.txt\n"
          ]
        }
      ],
      "source": [
        "%%writefile output1.txt\n",
        "90"
      ]
    },
    {
      "cell_type": "code",
      "execution_count": 27,
      "metadata": {
        "id": "fYCjAdA_C-wy"
      },
      "outputs": [],
      "source": [
        "!./max_pairwise_product_full< input1.txt > ctest1.txt\n",
        "!grep -xvFf output1.txt ctest1.txt"
      ]
    },
    {
      "cell_type": "code",
      "execution_count": 28,
      "metadata": {
        "id": "ZPe40LY14_6f",
        "colab": {
          "base_uri": "https://localhost:8080/"
        },
        "outputId": "22a4700b-2057-46c0-a246-abb00d86c2b4"
      },
      "outputs": [
        {
          "output_type": "stream",
          "name": "stdout",
          "text": [
            "Overwriting input2.txt\n"
          ]
        }
      ],
      "source": [
        "%%writefile input2.txt\n",
        "10\n",
        "10 9 8 7 6 5 4 3 2 1"
      ]
    },
    {
      "cell_type": "code",
      "execution_count": 29,
      "metadata": {
        "id": "xiHmF7HA5Faa",
        "colab": {
          "base_uri": "https://localhost:8080/"
        },
        "outputId": "696921bf-ca3c-4cc1-d80e-9bab2e39f9ca"
      },
      "outputs": [
        {
          "output_type": "stream",
          "name": "stdout",
          "text": [
            "Overwriting output2.txt\n"
          ]
        }
      ],
      "source": [
        "%%writefile output2.txt\n",
        "90"
      ]
    },
    {
      "cell_type": "code",
      "execution_count": 30,
      "metadata": {
        "id": "jjwc9kwb5t_k"
      },
      "outputs": [],
      "source": [
        "!./max_pairwise_product_full< input2.txt > ctest2.txt\n",
        "!grep -xvFf output2.txt ctest2.txt"
      ]
    },
    {
      "cell_type": "markdown",
      "metadata": {
        "id": "IeZ3kTjpYmR9"
      },
      "source": [
        "### Test 2: largest input numbers 200000 200000 to check possible intger overflow"
      ]
    },
    {
      "cell_type": "code",
      "execution_count": 31,
      "metadata": {
        "id": "LQNlZqaqYt7U",
        "colab": {
          "base_uri": "https://localhost:8080/"
        },
        "outputId": "2e738a02-6747-4cc9-af6c-02adb2d83d43"
      },
      "outputs": [
        {
          "output_type": "stream",
          "name": "stdout",
          "text": [
            "Writing input3.txt\n"
          ]
        }
      ],
      "source": [
        "%%writefile input3.txt\n",
        "6\n",
        "1 3 200000 9 200000 23"
      ]
    },
    {
      "cell_type": "code",
      "execution_count": 32,
      "metadata": {
        "id": "GjQq7QOUCw-9",
        "colab": {
          "base_uri": "https://localhost:8080/"
        },
        "outputId": "f6ba4933-f13b-4bf8-8b42-a2a954c1616a"
      },
      "outputs": [
        {
          "output_type": "execute_result",
          "data": {
            "text/plain": [
              "40000000000"
            ]
          },
          "metadata": {},
          "execution_count": 32
        }
      ],
      "source": [
        "200000*200000"
      ]
    },
    {
      "cell_type": "code",
      "execution_count": 33,
      "metadata": {
        "id": "EuS6n3jtDK5C",
        "colab": {
          "base_uri": "https://localhost:8080/"
        },
        "outputId": "8878041a-a0c1-4c81-d64e-7b1746e03999"
      },
      "outputs": [
        {
          "output_type": "stream",
          "name": "stdout",
          "text": [
            "Writing output3.txt\n"
          ]
        }
      ],
      "source": [
        "%%writefile output3.txt\n",
        "40000000000"
      ]
    },
    {
      "cell_type": "code",
      "execution_count": 34,
      "metadata": {
        "id": "2Wad2VZUZDxR",
        "colab": {
          "base_uri": "https://localhost:8080/"
        },
        "outputId": "f349584c-09f3-43d9-e55b-501673af8bb0"
      },
      "outputs": [
        {
          "output_type": "stream",
          "name": "stdout",
          "text": [
            "1345294336\n"
          ]
        }
      ],
      "source": [
        "!./max_pairwise_product_full < input3.txt"
      ]
    },
    {
      "cell_type": "code",
      "execution_count": 35,
      "metadata": {
        "id": "pEvp1ieyDJGq",
        "colab": {
          "base_uri": "https://localhost:8080/"
        },
        "outputId": "00f6cc25-270f-498e-bf0b-61cd857d7727"
      },
      "outputs": [
        {
          "output_type": "stream",
          "name": "stdout",
          "text": [
            "1345294336\n"
          ]
        }
      ],
      "source": [
        "!./max_pairwise_product_full < input3.txt > ctest3.txt\n",
        "!grep -xvFf output3.txt ctest3.txt"
      ]
    },
    {
      "cell_type": "code",
      "execution_count": 36,
      "metadata": {
        "id": "SrtJrKqM-God",
        "colab": {
          "base_uri": "https://localhost:8080/"
        },
        "outputId": "e0a40d1e-e290-481f-d951-495d63576f33"
      },
      "outputs": [
        {
          "output_type": "stream",
          "name": "stdout",
          "text": [
            "Writing run_all_test.sh\n"
          ]
        }
      ],
      "source": [
        " %%writefile run_all_test.sh\n",
        "#!/bin/bash\n",
        "g++ max_pairwise_product_full.cpp -o max_pairwise_product_full\n",
        "for i in {0..3}\n",
        "do\n",
        "    ./max_pairwise_product_full < input$i.txt > ctest$i.txt\n",
        "    grep -xvFf output$i.txt ctest$i.txt\n",
        "done"
      ]
    },
    {
      "cell_type": "code",
      "execution_count": 37,
      "metadata": {
        "id": "wGWMHtzS-QnA",
        "colab": {
          "base_uri": "https://localhost:8080/"
        },
        "outputId": "05a07120-fb97-49ea-ae41-e18cd415cce6"
      },
      "outputs": [
        {
          "output_type": "stream",
          "name": "stdout",
          "text": [
            "1345294336\n"
          ]
        }
      ],
      "source": [
        "!chmod u+x run_all_test.sh\n",
        "!./run_all_test.sh"
      ]
    },
    {
      "cell_type": "markdown",
      "metadata": {
        "id": "H2SC0Qt5HCzz"
      },
      "source": [
        "### Changing the variables to long long"
      ]
    },
    {
      "cell_type": "code",
      "execution_count": 38,
      "metadata": {
        "id": "MPcmsxiQZSfE",
        "colab": {
          "base_uri": "https://localhost:8080/"
        },
        "outputId": "532610c1-d3d0-4302-80e4-f70a70d2e070"
      },
      "outputs": [
        {
          "output_type": "stream",
          "name": "stdout",
          "text": [
            "Writing max_pairwise_product_long_full.cpp\n"
          ]
        }
      ],
      "source": [
        "%%writefile max_pairwise_product_long_full.cpp\n",
        "#include <iostream>\n",
        "#include <vector>\n",
        "#include <algorithm>\n",
        "\n",
        "long long MaxPairwiseProduct(const std::vector<int>& numbers) {\n",
        "    long long max_product = 0LL;\n",
        "\t  long long aux_product = 0LL;\n",
        "    int n = numbers.size();\n",
        "\n",
        "    for (int first = 0; first < n; ++first) {\n",
        "        for (int second = 0; second < n; ++second) {\n",
        "          if ( first != second){\n",
        "                aux_product = (long long) numbers[first] * numbers[second];\n",
        "                if (aux_product > max_product)  max_product = aux_product;\n",
        "          }\n",
        "        }\n",
        "    }\n",
        "\n",
        "\n",
        "    return max_product;\n",
        "}\n",
        "\n",
        "int main() {\n",
        "    int n;\n",
        "    std::cin >> n;\n",
        "    std::vector<int> numbers(n);\n",
        "    for (int i = 0; i < n; ++i) {\n",
        "        std::cin >> numbers[i];\n",
        "    }\n",
        "\n",
        "    std::cout << MaxPairwiseProduct(numbers) << \"\\n\";\n",
        "    return 0;\n",
        "}\n"
      ]
    },
    {
      "cell_type": "code",
      "execution_count": 39,
      "metadata": {
        "id": "W3xQpFXL6wjO"
      },
      "outputs": [],
      "source": [
        "!g++ max_pairwise_product_long_full.cpp -o max_pairwise_product_long_full"
      ]
    },
    {
      "cell_type": "code",
      "execution_count": 40,
      "metadata": {
        "id": "H5dvN9M3R9sV",
        "colab": {
          "base_uri": "https://localhost:8080/"
        },
        "outputId": "b102e0e5-6c71-4bac-e623-e3f34ae589ae"
      },
      "outputs": [
        {
          "output_type": "stream",
          "name": "stdout",
          "text": [
            "40000000000\n"
          ]
        }
      ],
      "source": [
        "!./max_pairwise_product_long_full < input3.txt"
      ]
    },
    {
      "cell_type": "markdown",
      "metadata": {
        "id": "gx-sEYdfQ8f8"
      },
      "source": [
        "### Runing multuple test with a bash shell"
      ]
    },
    {
      "cell_type": "code",
      "execution_count": 41,
      "metadata": {
        "id": "O9qsq2nn7elw",
        "colab": {
          "base_uri": "https://localhost:8080/"
        },
        "outputId": "627101ad-8685-42a2-ab85-5ea49fd78653"
      },
      "outputs": [
        {
          "output_type": "stream",
          "name": "stdout",
          "text": [
            "Overwriting run_all_test.sh\n"
          ]
        }
      ],
      "source": [
        " %%writefile run_all_test.sh\n",
        "#!/bin/bash\n",
        "g++ max_pairwise_product_long_full.cpp -o max_pairwise_product_long_full\n",
        "for i in {1..3}\n",
        "do\n",
        "    ./max_pairwise_product_long_full < input$i.txt > ctest$i.txt\n",
        "    grep -xvFf output$i.txt ctest$i.txt\n",
        "done"
      ]
    },
    {
      "cell_type": "code",
      "execution_count": 42,
      "metadata": {
        "id": "0g5kKVph7xIA"
      },
      "outputs": [],
      "source": [
        "!chmod u+x run_all_test.sh\n",
        "!./run_all_test.sh"
      ]
    },
    {
      "cell_type": "markdown",
      "metadata": {
        "id": "XPVHkHxH6_7s"
      },
      "source": [
        "### Test 3  stress tests, 6 testing cases files input4.txt/output4.txt .. input10.txt/output10.txt\n",
        "\n",
        "---\n",
        "\n"
      ]
    },
    {
      "cell_type": "code",
      "execution_count": 43,
      "metadata": {
        "id": "PwqpBmYr69fu",
        "colab": {
          "base_uri": "https://localhost:8080/"
        },
        "outputId": "6856fa40-81a8-4887-8f1a-fa3ee91deb86"
      },
      "outputs": [
        {
          "output_type": "stream",
          "name": "stdout",
          "text": [
            "Writing input4.txt\n"
          ]
        }
      ],
      "source": [
        "%%writefile input4.txt\n",
        "7\n",
        "1 3 200000 9 200000 23 200000"
      ]
    },
    {
      "cell_type": "code",
      "execution_count": 44,
      "metadata": {
        "id": "jBCkMeR6Fw4y",
        "colab": {
          "base_uri": "https://localhost:8080/"
        },
        "outputId": "9460be58-96c3-4fa0-bf17-64b4da78b331"
      },
      "outputs": [
        {
          "output_type": "stream",
          "name": "stdout",
          "text": [
            "Writing output4.txt\n"
          ]
        }
      ],
      "source": [
        "%%writefile output4.txt\n",
        "40000000000"
      ]
    },
    {
      "cell_type": "code",
      "execution_count": 45,
      "metadata": {
        "id": "zED8V8wu-eoM",
        "colab": {
          "base_uri": "https://localhost:8080/"
        },
        "outputId": "392f680c-bc2b-417b-832d-b878f8c69ff7"
      },
      "outputs": [
        {
          "output_type": "stream",
          "name": "stdout",
          "text": [
            "Writing input5.txt\n"
          ]
        }
      ],
      "source": [
        "%%writefile input5.txt\n",
        "2\n",
        "1 1"
      ]
    },
    {
      "cell_type": "code",
      "execution_count": 46,
      "metadata": {
        "id": "uAZqPEg6iwEQ",
        "colab": {
          "base_uri": "https://localhost:8080/"
        },
        "outputId": "1b9a1d80-49ba-4274-cb7d-5af35bedc3d4"
      },
      "outputs": [
        {
          "output_type": "stream",
          "name": "stdout",
          "text": [
            "Writing output5.txt\n"
          ]
        }
      ],
      "source": [
        "%%writefile output5.txt\n",
        "1"
      ]
    },
    {
      "cell_type": "code",
      "execution_count": 47,
      "metadata": {
        "id": "9oETMl1Uiw0U",
        "colab": {
          "base_uri": "https://localhost:8080/"
        },
        "outputId": "99eee861-1bee-48a2-cabe-33d739c1e576"
      },
      "outputs": [
        {
          "output_type": "stream",
          "name": "stdout",
          "text": [
            "Writing input6.txt\n"
          ]
        }
      ],
      "source": [
        "%%writefile input6.txt\n",
        "8\n",
        "2 2 2 2 2 2 2 2"
      ]
    },
    {
      "cell_type": "code",
      "execution_count": 48,
      "metadata": {
        "id": "cMbhWqNIiw9J",
        "colab": {
          "base_uri": "https://localhost:8080/"
        },
        "outputId": "b117bd5c-ac17-430e-ac07-f5ced6c2b1ea"
      },
      "outputs": [
        {
          "output_type": "stream",
          "name": "stdout",
          "text": [
            "Writing output6.txt\n"
          ]
        }
      ],
      "source": [
        "%%writefile output6.txt\n",
        "4"
      ]
    },
    {
      "cell_type": "code",
      "execution_count": 49,
      "metadata": {
        "id": "agtQYQ1-jlCh",
        "colab": {
          "base_uri": "https://localhost:8080/"
        },
        "outputId": "c6d848db-8972-4e61-aad2-24a42d4840c9"
      },
      "outputs": [
        {
          "output_type": "stream",
          "name": "stdout",
          "text": [
            "Writing input7.txt\n"
          ]
        }
      ],
      "source": [
        "%%writefile input7.txt\n",
        "5\n",
        "1 3 200000 9 200000"
      ]
    },
    {
      "cell_type": "code",
      "execution_count": 50,
      "metadata": {
        "id": "0AHt_NK4jlN8",
        "colab": {
          "base_uri": "https://localhost:8080/"
        },
        "outputId": "be93492e-c197-4708-83ad-47cd5e7ac98e"
      },
      "outputs": [
        {
          "output_type": "stream",
          "name": "stdout",
          "text": [
            "Writing output7.txt\n"
          ]
        }
      ],
      "source": [
        "%%writefile output7.txt\n",
        "40000000000"
      ]
    },
    {
      "cell_type": "code",
      "execution_count": 51,
      "metadata": {
        "id": "RleM1RF3jlXW",
        "colab": {
          "base_uri": "https://localhost:8080/"
        },
        "outputId": "7849b022-bbfa-4ba3-9e38-3b3848726d3f"
      },
      "outputs": [
        {
          "output_type": "stream",
          "name": "stdout",
          "text": [
            "Writing input8.txt\n"
          ]
        }
      ],
      "source": [
        "%%writefile input8.txt\n",
        "3\n",
        "9 8 9"
      ]
    },
    {
      "cell_type": "code",
      "execution_count": 52,
      "metadata": {
        "id": "tN-kTwdGkV4S",
        "colab": {
          "base_uri": "https://localhost:8080/"
        },
        "outputId": "622607d0-228c-47fd-a966-b57f28afeca1"
      },
      "outputs": [
        {
          "output_type": "stream",
          "name": "stdout",
          "text": [
            "Writing output8.txt\n"
          ]
        }
      ],
      "source": [
        "%%writefile output8.txt\n",
        "81"
      ]
    },
    {
      "cell_type": "code",
      "execution_count": 53,
      "metadata": {
        "id": "4V78Jg8RkWZi",
        "colab": {
          "base_uri": "https://localhost:8080/"
        },
        "outputId": "c2a1d6de-0343-4887-a56f-cba2eb20bc06"
      },
      "outputs": [
        {
          "output_type": "stream",
          "name": "stdout",
          "text": [
            "Writing input9.txt\n"
          ]
        }
      ],
      "source": [
        "%%writefile input9.txt\n",
        "4\n",
        "200000 200000 200000 200000"
      ]
    },
    {
      "cell_type": "code",
      "execution_count": 54,
      "metadata": {
        "id": "3q6T_9RTkWiB",
        "colab": {
          "base_uri": "https://localhost:8080/"
        },
        "outputId": "2a6a2ca7-dbe6-4be9-d42c-d6546763ee26"
      },
      "outputs": [
        {
          "output_type": "stream",
          "name": "stdout",
          "text": [
            "Writing output9.txt\n"
          ]
        }
      ],
      "source": [
        "%%writefile output9.txt\n",
        "40000000000"
      ]
    },
    {
      "cell_type": "code",
      "execution_count": 55,
      "metadata": {
        "id": "fdXrg0T-kWu7",
        "colab": {
          "base_uri": "https://localhost:8080/"
        },
        "outputId": "d275e243-1a8d-4edf-c743-dab88fa6ab69"
      },
      "outputs": [
        {
          "output_type": "stream",
          "name": "stdout",
          "text": [
            "Writing input10.txt\n"
          ]
        }
      ],
      "source": [
        "%%writefile input10.txt\n",
        "0"
      ]
    },
    {
      "cell_type": "code",
      "execution_count": 56,
      "metadata": {
        "id": "K8kpX6wBkW6m",
        "colab": {
          "base_uri": "https://localhost:8080/"
        },
        "outputId": "31c1c66a-cc05-47ae-dba5-a238a6dfaf8a"
      },
      "outputs": [
        {
          "output_type": "stream",
          "name": "stdout",
          "text": [
            "Writing output10.txt\n"
          ]
        }
      ],
      "source": [
        "%%writefile output10.txt\n",
        "0"
      ]
    },
    {
      "cell_type": "code",
      "execution_count": 57,
      "metadata": {
        "id": "EdkkyW5VlIUJ",
        "colab": {
          "base_uri": "https://localhost:8080/"
        },
        "outputId": "486d230b-9893-4c9c-bf5f-1ded25d30e07"
      },
      "outputs": [
        {
          "output_type": "stream",
          "name": "stdout",
          "text": [
            "Writing run_all_test_1.sh\n"
          ]
        }
      ],
      "source": [
        "%%writefile run_all_test_1.sh\n",
        "#!/bin/bash\n",
        "g++ max_pairwise_product_long_full.cpp -o max_pairwise_product_long_full\n",
        "for i in {4..10}\n",
        "do\n",
        "    ./max_pairwise_product_long_full < input$i.txt > ctest$i.txt\n",
        "    grep -xvFf output$i.txt ctest$i.txt\n",
        "done"
      ]
    },
    {
      "cell_type": "code",
      "execution_count": 58,
      "metadata": {
        "id": "fbZg14imlJkw"
      },
      "outputs": [],
      "source": [
        "!chmod u+x run_all_test_1.sh\n",
        "!./run_all_test_1.sh"
      ]
    },
    {
      "cell_type": "markdown",
      "metadata": {
        "id": "9z9yr5QkeyJF"
      },
      "source": [
        "### Test 4  time test  measure the execution time running with the the largest worst cases input11.txt  (200000 increasing numbers) and input12.txt (199998 increasing numbers and  200000, 200000 at the end)"
      ]
    },
    {
      "cell_type": "code",
      "execution_count": 59,
      "metadata": {
        "id": "UmB1ipWM_nSk",
        "colab": {
          "base_uri": "https://localhost:8080/"
        },
        "outputId": "c9a0786a-5d2e-49fd-d422-e8fa9f7816f4"
      },
      "outputs": [
        {
          "output_type": "stream",
          "name": "stdout",
          "text": [
            "Writing WriteTest.cpp\n"
          ]
        }
      ],
      "source": [
        "# input11.txt 200000 increasing numbers:  1 2 .. 200000\n",
        "\n",
        "%%writefile WriteTest.cpp\n",
        "\n",
        "#include <iostream>\n",
        "#include <fstream>\n",
        "#include <cstdlib>\n",
        "\n",
        "using namespace std;\n",
        "\n",
        "int main() {\n",
        "  // Create and open a text file\n",
        "  ofstream MyFile(\"input11.txt\");\n",
        "\n",
        " MyFile << 200000 <<\"\\n\";  // n\n",
        " for (int i=1; i <200001; i++){\n",
        "     MyFile << i <<\" \";\n",
        " }\n",
        "\n",
        "  // Close the file\n",
        "  MyFile.close();\n",
        "}"
      ]
    },
    {
      "cell_type": "code",
      "execution_count": 60,
      "metadata": {
        "id": "EH25TkOkZfD9"
      },
      "outputs": [],
      "source": [
        "!g++ WriteTest.cpp -o WriteTest\n",
        "!./WriteTest"
      ]
    },
    {
      "cell_type": "code",
      "execution_count": 61,
      "metadata": {
        "id": "j0mokSOnCCtZ",
        "colab": {
          "base_uri": "https://localhost:8080/"
        },
        "outputId": "708a2a73-fe5e-4783-8ec4-3c3caa63467e"
      },
      "outputs": [
        {
          "output_type": "execute_result",
          "data": {
            "text/plain": [
              "39999800000"
            ]
          },
          "metadata": {},
          "execution_count": 61
        }
      ],
      "source": [
        "199999 * 200000"
      ]
    },
    {
      "cell_type": "code",
      "execution_count": 62,
      "metadata": {
        "id": "VoDhDV73B5Mo",
        "colab": {
          "base_uri": "https://localhost:8080/"
        },
        "outputId": "a236ab07-1a73-4815-d79f-01056b9cdff0"
      },
      "outputs": [
        {
          "output_type": "stream",
          "name": "stdout",
          "text": [
            "Writing output11.txt\n"
          ]
        }
      ],
      "source": [
        "%%writefile output11.txt\n",
        "39999800000"
      ]
    },
    {
      "cell_type": "code",
      "execution_count": 63,
      "metadata": {
        "id": "oLiMjbAIfPlX",
        "colab": {
          "base_uri": "https://localhost:8080/"
        },
        "outputId": "9c929d4e-77c4-4dfe-d96d-0da7d4b79f48"
      },
      "outputs": [
        {
          "output_type": "stream",
          "name": "stdout",
          "text": [
            "Overwriting WriteTest.cpp\n"
          ]
        }
      ],
      "source": [
        "# input12.txt 200000 decreasing numbers and 200000, 199999 ...  2 1\n",
        "\n",
        "%%writefile WriteTest.cpp\n",
        "\n",
        "#include <iostream>\n",
        "#include <fstream>\n",
        "#include <cstdlib>\n",
        "\n",
        "using namespace std;\n",
        "\n",
        "int main() {\n",
        "  // Create and open a text file\n",
        "  ofstream MyFile(\"input12.txt\");\n",
        "\n",
        " MyFile << 200000 <<\"\\n\";  // n\n",
        " for (int i=1; i <200001; i++){\n",
        "     MyFile << 200001-i <<\" \";\n",
        " }\n",
        "\n",
        "  // Close the file\n",
        "  MyFile.close();\n",
        "}"
      ]
    },
    {
      "cell_type": "code",
      "execution_count": 64,
      "metadata": {
        "id": "oULNBr_zAd9c"
      },
      "outputs": [],
      "source": [
        "!g++ WriteTest.cpp -o WriteTest\n",
        "!./WriteTest"
      ]
    },
    {
      "cell_type": "code",
      "execution_count": 65,
      "metadata": {
        "id": "PQLyocaFB-y4",
        "colab": {
          "base_uri": "https://localhost:8080/"
        },
        "outputId": "064031f7-a042-424a-88d0-40bcd31f09e4"
      },
      "outputs": [
        {
          "output_type": "stream",
          "name": "stdout",
          "text": [
            "Writing output12.txt\n"
          ]
        }
      ],
      "source": [
        "%%writefile output12.txt\n",
        "39999800000"
      ]
    },
    {
      "cell_type": "markdown",
      "metadata": {
        "id": "JB6f03qO-lj9"
      },
      "source": [
        "### Measure time\n",
        "\n",
        "https://askubuntu.com/questions/53444/how-can-i-measure-the-execution-time-of-a-terminal-process"
      ]
    },
    {
      "cell_type": "code",
      "execution_count": 66,
      "metadata": {
        "id": "6p2QLEr576zk",
        "colab": {
          "base_uri": "https://localhost:8080/"
        },
        "outputId": "4f44c29d-65a2-451f-844d-3c4b2e29978f"
      },
      "outputs": [
        {
          "output_type": "stream",
          "name": "stdout",
          "text": [
            "39999800000\n",
            "\n",
            "real\t5m4.015s\n",
            "user\t4m57.953s\n",
            "sys\t0m0.124s\n"
          ]
        }
      ],
      "source": [
        "!g++ max_pairwise_product_long_full.cpp -o max_pairwise_product_long_full\n",
        "!time ./max_pairwise_product_long_full< input11.txt"
      ]
    },
    {
      "cell_type": "code",
      "execution_count": 67,
      "metadata": {
        "id": "cnjCyeUdAnZj",
        "colab": {
          "base_uri": "https://localhost:8080/"
        },
        "outputId": "75078560-a900-4c91-99d9-d66446eecf6c"
      },
      "outputs": [
        {
          "output_type": "stream",
          "name": "stdout",
          "text": [
            "39999800000\n",
            "\n",
            "real\t4m58.821s\n",
            "user\t4m56.426s\n",
            "sys\t0m0.102s\n"
          ]
        }
      ],
      "source": [
        "!g++ max_pairwise_product_long_full.cpp -o max_pairwise_product_long_full\n",
        "!time ./max_pairwise_product_long_full< input12.txt"
      ]
    },
    {
      "cell_type": "markdown",
      "metadata": {
        "id": "FXClpBsUJuXC"
      },
      "source": [
        "### Calculate the number or and upper bound to the number of instructions executed by the algorithm as a function of n, add in each line a comment with the number of instructions that are executed in that line."
      ]
    },
    {
      "cell_type": "code",
      "execution_count": 68,
      "metadata": {
        "id": "uG6Mv-Pwlkii",
        "colab": {
          "base_uri": "https://localhost:8080/"
        },
        "outputId": "70776562-0c42-412e-bb54-9b0a8f0be98a"
      },
      "outputs": [
        {
          "output_type": "stream",
          "name": "stdout",
          "text": [
            "Overwriting max_pairwise_product_long_full.cpp\n"
          ]
        }
      ],
      "source": [
        "%%writefile max_pairwise_product_long_full.cpp\n",
        "#include <iostream>\n",
        "#include <vector>\n",
        "#include <algorithm>\n",
        "\n",
        "long long MaxPairwiseProduct(const std::vector<int>& numbers) {              //INSTRUCTIONS executed by line\n",
        "    long long max_product = 0LL;                                             //1\n",
        "\t  long long aux_product = 0LL;                                             //1\n",
        "    int n = numbers.size();                                                  //1\n",
        "\n",
        "    for (int first = 0; first < n; ++first) {                                //2+2n\n",
        "        for (int second = 0; second < n; ++second) {                         //2n + 2n**2\n",
        "          if ( first != second ){                                            //n**2\n",
        "                aux_product = numbers[first] * numbers[second];              //n**2 -n\n",
        "                if (aux_product > max_product)                               //n**2 -n\n",
        "                    max_product = aux_product;                               //[0, n**2/2 - n/2] upper bound\n",
        "          }\n",
        "        }\n",
        "    }\n",
        "\n",
        "                                                                             // --------------\n",
        "    return max_product;                                                      // 5 + 2*n + [5*n**2, 11*n**2/2  - n/2]  upper bound\n",
        "}\n",
        "\n",
        "int main() {                                              //INSTRUCTIONS executed by line\n",
        "    int n;                                                //1\n",
        "    std::cin >> n;                                        //1\n",
        "    std::vector<int> numbers(n);                          //n\n",
        "    for (int i = 0; i < n; ++i) {                         //2 + 2n\n",
        "        std::cin >> numbers[i];                           //n\n",
        "    }\n",
        "\n",
        "    std::cout << MaxPairwiseProduct(numbers) << \"\\n\";     //1 + 1  + 5 + 2*n + [5*n**2, 11*n**2/2  - n/2]\n",
        "\n",
        "    return 0;                                             // --------------\n",
        "}                                                         //  11 + 6*n + [5*n**2, 11*n**2/2  - n/2]  upper bound\n"
      ]
    },
    {
      "cell_type": "markdown",
      "metadata": {
        "id": "0vTsUg8OwcHs"
      },
      "source": [
        "### Count executed intructions in code"
      ]
    },
    {
      "cell_type": "code",
      "execution_count": 69,
      "metadata": {
        "id": "CuRKkqQc137V",
        "colab": {
          "base_uri": "https://localhost:8080/"
        },
        "outputId": "e3b5e0a3-7017-4de4-c2c9-84943f0cfc8f"
      },
      "outputs": [
        {
          "output_type": "stream",
          "name": "stdout",
          "text": [
            "Writing max_pairwise_product_long_full_execints.cpp\n"
          ]
        }
      ],
      "source": [
        "%%writefile max_pairwise_product_long_full_execints.cpp\n",
        "#include <iostream>\n",
        "#include <vector>\n",
        "#include <algorithm>\n",
        "\n",
        "long long MaxPairwiseProduct(const std::vector<int>& numbers, long long &execints) {      //INSTRUCTIONS executed by line\n",
        "\n",
        "    long long max_product = 0LL;                                                          //1\n",
        "    execints++;\n",
        "\n",
        "\t  long long aux_product = 0LL;                                                          //1\n",
        "    execints++;\n",
        "\n",
        "    int n = numbers.size();                                                               //1\n",
        "    execints++;\n",
        "\n",
        "    execints++;\n",
        "    for (int first = 0; first < n; ++first) {                                             //2+2n\n",
        "        execints += 2;\n",
        "\n",
        "        execints++;\n",
        "        for (int second = 0; second < n; ++second) {                                       //2n + 2n**2\n",
        "          execints += 2;\n",
        "\n",
        "          execints++;\n",
        "          if ( first != second ){                                                         //n**2\n",
        "                aux_product = numbers[first] * numbers[second];                           //n**2 -n\n",
        "                execints++;\n",
        "\n",
        "                execints++;\n",
        "                if (aux_product > max_product){                                           //n**2 -n\n",
        "                    max_product = aux_product;                                            //[0,n**2/2 - n/2)  upper bound\n",
        "                    execints++;\n",
        "\n",
        "                }\n",
        "        }\n",
        "\n",
        "      }\n",
        "      execints++;\n",
        "    }\n",
        "    execints++;\n",
        "                                                                                        // --------------\n",
        "    return max_product;                                                                 // 5 + 2*n + [5*n**2, 11*n**2/2  - n/2] upper bound\n",
        "}\n",
        "\n",
        "int main() {                                                 //INSTRUCTIONS executed by line\n",
        "\n",
        "    long long execints =0LL;\n",
        "\n",
        "    int n;                                                   //1\n",
        "    execints++;\n",
        "\n",
        "    std::cin >> n;                                           //1\n",
        "    execints++;\n",
        "\n",
        "    std::vector<int> numbers(n);                             //n\n",
        "    execints += n;\n",
        "\n",
        "    execints++;\n",
        "    for (int i = 0; i < n; ++i) {                            //2 + 2n\n",
        "        execints += 2;\n",
        "\n",
        "        std::cin >> numbers[i];\n",
        "        execints++;                                          //n\n",
        "\n",
        "    }\n",
        "\n",
        "\n",
        "    //std::cout << MaxPairwiseProduct(numbers) << \"\\n\";      //1 + 1  + 5 + 2*n + [5*n**2, 11*n**2/2  - n/2] upper bound\n",
        "\n",
        "    execints++;\n",
        "    int M = MaxPairwiseProduct(numbers,execints);\n",
        "\n",
        "    execints++;\n",
        "    std::cout <<  execints << \"\\n\";\n",
        "    return 0;                                                // --------------\n",
        "}                                                            // 11 + 6*n + [5*n**2, 11*n**2/2  - n/2]"
      ]
    },
    {
      "cell_type": "markdown",
      "metadata": {
        "id": "cUjHtvtdDsmr"
      },
      "source": [
        "The number of instructions executed by the algooirithm with a list of size $n$ is  \n",
        "\n",
        "$$T (n) = 11 + 6n + \\left[5n^2, 11\\frac{n^2}{2}  - \\frac{n}{2}\\right)  >  6n^2 = O(n^2)$$\n",
        "\n",
        "It depends on the size of the lists and  the order of the list.\n",
        "\n",
        "For the input0.txt\n",
        "```\n",
        "10\n",
        "0 0 0 0 0 0 0 0 0 0\n",
        "```\n",
        "$$T = 11 + 6(10) + 5(10)^2   = 561 $$\n",
        "\n",
        "$$T(10) \\in [571, 621)  $$\n"
      ]
    },
    {
      "cell_type": "code",
      "execution_count": 70,
      "metadata": {
        "id": "Om9Fevb0miAT",
        "colab": {
          "base_uri": "https://localhost:8080/"
        },
        "outputId": "70afd1ae-90a0-4524-a3b1-7f52e7d3e00c"
      },
      "outputs": [
        {
          "output_type": "stream",
          "name": "stdout",
          "text": [
            "570\n"
          ]
        }
      ],
      "source": [
        "!g++ max_pairwise_product_long_full_execints.cpp -o max_pairwise_product_long_full_execints\n",
        "!./max_pairwise_product_long_full_execints < input0.txt"
      ]
    },
    {
      "cell_type": "markdown",
      "metadata": {
        "id": "FwJzZ6VzmArY"
      },
      "source": [
        "For the input1.txt\n",
        "```\n",
        "10\n",
        "1 2 3 4 5 6 7 8 9 10\n",
        "```\n",
        "$$T = 11 + 6(10) + 5(10)^2 +  9 + 5 + 4 + 3 + 2 + 2 + 2 + 2 + 1 + 0  = 601 $$\n",
        "\n",
        "$$T(10) \\in [572, 622)  $$\n"
      ]
    },
    {
      "cell_type": "code",
      "execution_count": 71,
      "metadata": {
        "id": "K59xQMWiBNFj"
      },
      "outputs": [],
      "source": [
        "#The number of times that  max_product = aux_product; in the worst case is less than (n**2 -n)/2 -  upper bound\n",
        "\n",
        "#     1  2  3  4  5  6  7  8  9  10\n",
        "#  1  x  2  3  4  5  6  7  8  9  10         9\n",
        "#  2  2  x  6  8  10 12 14 16 18 20         5 14\n",
        "#  3  3  6  x  12 15 18 21 24 27 30         4 18\n",
        "#  4  4  8  12 x  20 24 28 32 36 40         3 21\n",
        "#  5  5  10 15 20 x  30 35 40 45 50         2 23\n",
        "#  6  6  12 18 24 30 x  42 48 54 60         2 25\n",
        "#  7  7  14 21 28 35 42 x  56 63 70         2 27\n",
        "#  8  8  18 27 36 45 54 63 72 x  90         1 30\n",
        "#  10 10 20 30 40 50 60 70 60 90 x          0"
      ]
    },
    {
      "cell_type": "code",
      "execution_count": 72,
      "metadata": {
        "id": "E3O8dzFfEgir",
        "colab": {
          "base_uri": "https://localhost:8080/"
        },
        "outputId": "11fd22e5-216e-4e21-b556-baff05047e85"
      },
      "outputs": [
        {
          "output_type": "execute_result",
          "data": {
            "text/plain": [
              "601"
            ]
          },
          "metadata": {},
          "execution_count": 72
        }
      ],
      "source": [
        "11 + 6*(10) + 5*(10)*(10) +  9 + 5 + 4 + 3 + 2 + 2 + 2 + 2 + 1 + 0"
      ]
    },
    {
      "cell_type": "code",
      "execution_count": 73,
      "metadata": {
        "id": "TCpdl5u_Gq1a",
        "colab": {
          "base_uri": "https://localhost:8080/"
        },
        "outputId": "6c7e11b9-67b8-4a56-fca6-4e9c60f65197"
      },
      "outputs": [
        {
          "output_type": "stream",
          "name": "stdout",
          "text": [
            "[ 571 , 621.0 )\n"
          ]
        }
      ],
      "source": [
        "n = 10\n",
        "print( \"[\", 11 + 6*n + 5*n**2,  \",\", 11 + 6*n  + 5.5*n**2, \")\")"
      ]
    },
    {
      "cell_type": "code",
      "execution_count": 74,
      "metadata": {
        "id": "Kuvm1C05ly2a",
        "colab": {
          "base_uri": "https://localhost:8080/"
        },
        "outputId": "78aefa43-1a6f-403c-e076-eaf65f6cd74f"
      },
      "outputs": [
        {
          "output_type": "stream",
          "name": "stdout",
          "text": [
            "600\n"
          ]
        }
      ],
      "source": [
        "!g++ max_pairwise_product_long_full_execints.cpp -o max_pairwise_product_long_full_execints\n",
        "!./max_pairwise_product_long_full_execints < input1.txt"
      ]
    },
    {
      "cell_type": "markdown",
      "metadata": {
        "id": "Yr_Lb7CaHfxB"
      },
      "source": [
        "\n",
        "For the input2.txt\n",
        "```\n",
        "10\n",
        "10 9 8 7 6 5 4 3 2 1\n",
        "```\n",
        "$$T = 11 + 6*(10) + 5*(10)**2 +  1  = 571 $$"
      ]
    },
    {
      "cell_type": "code",
      "execution_count": 75,
      "metadata": {
        "id": "HOdqlwJiZUIp",
        "colab": {
          "base_uri": "https://localhost:8080/"
        },
        "outputId": "bfb7173e-98d8-4c8e-9b6b-49b711c5711f"
      },
      "outputs": [
        {
          "output_type": "execute_result",
          "data": {
            "text/plain": [
              "572"
            ]
          },
          "metadata": {},
          "execution_count": 75
        }
      ],
      "source": [
        "11 + 6*(10) + 5*(10)**2 +  1"
      ]
    },
    {
      "cell_type": "code",
      "execution_count": 76,
      "metadata": {
        "id": "_znzLectjFSe",
        "colab": {
          "base_uri": "https://localhost:8080/"
        },
        "outputId": "77a41a9d-4147-4013-abf7-ee1a89974382"
      },
      "outputs": [
        {
          "output_type": "stream",
          "name": "stdout",
          "text": [
            "571\n"
          ]
        }
      ],
      "source": [
        "!g++ max_pairwise_product_long_full_execints.cpp -o max_pairwise_product_long_full_execints\n",
        "!./max_pairwise_product_long_full_execints < input2.txt"
      ]
    },
    {
      "cell_type": "markdown",
      "metadata": {
        "id": "NXW7QkoBL6xH"
      },
      "source": [
        "Calculate estimated time by instruction and number of instructions by second"
      ]
    },
    {
      "cell_type": "markdown",
      "metadata": {
        "id": "dlyRjaohz-YH"
      },
      "source": [
        "For the input11.txt\n",
        "```\n",
        "200000\n",
        "1 2 ..  199999 2000\n",
        "```\n",
        "$$T = 11 + 6*(200000) + 5.5*(200000)**2  = 200001200012  $$"
      ]
    },
    {
      "cell_type": "code",
      "execution_count": 77,
      "metadata": {
        "id": "BMH8mF3EKn2w",
        "colab": {
          "base_uri": "https://localhost:8080/"
        },
        "outputId": "2a4e8c0a-826a-4fd1-f302-0f9cd5b54624"
      },
      "outputs": [
        {
          "output_type": "stream",
          "name": "stdout",
          "text": [
            "200003177091\n"
          ]
        }
      ],
      "source": [
        "!g++ max_pairwise_product_long_full_execints.cpp -o max_pairwise_product_long_full_execints\n",
        "!./max_pairwise_product_long_full_execints < input11.txt"
      ]
    },
    {
      "cell_type": "code",
      "execution_count": 78,
      "metadata": {
        "id": "pKqB3i7dIxnc",
        "colab": {
          "base_uri": "https://localhost:8080/"
        },
        "outputId": "4c33cd48-dd06-420b-e3fa-825439774d0d"
      },
      "outputs": [
        {
          "output_type": "execute_result",
          "data": {
            "text/plain": [
              "1.4749765693187072e-09"
            ]
          },
          "metadata": {},
          "execution_count": 78
        }
      ],
      "source": [
        "# Estimated time by instruction\n",
        "\n",
        "295/200003177092\n"
      ]
    },
    {
      "cell_type": "code",
      "execution_count": 79,
      "metadata": {
        "id": "18N1ouqeMhE1",
        "colab": {
          "base_uri": "https://localhost:8080/"
        },
        "outputId": "9c7f0190-9337-4234-da84-522600ec05da"
      },
      "outputs": [
        {
          "output_type": "execute_result",
          "data": {
            "text/plain": [
              "677976871.4983051"
            ]
          },
          "metadata": {},
          "execution_count": 79
        }
      ],
      "source": [
        "# Estimated number of instructions by second\n",
        "\n",
        "200003177092/295"
      ]
    },
    {
      "cell_type": "markdown",
      "metadata": {
        "id": "KyuxejFkL5X_"
      },
      "source": [
        "### Estimate and verify the maximun n that can be solved in 1 second\n",
        "\n",
        "$$(5.5n^2 + 5.5n + 11) \\times 1.47*10^{-9} s = 1 s$$\n",
        "\n",
        "$$ n \\approx 11000$$\n"
      ]
    },
    {
      "cell_type": "code",
      "execution_count": 80,
      "metadata": {
        "id": "WXu5jp-DLTOI",
        "colab": {
          "base_uri": "https://localhost:8080/"
        },
        "outputId": "aded694b-0646-4117-bb56-6da86e1ba944"
      },
      "outputs": [
        {
          "output_type": "stream",
          "name": "stdout",
          "text": [
            "Overwriting WriteTest.cpp\n"
          ]
        }
      ],
      "source": [
        "# Verify input13.txt\n",
        "%%writefile WriteTest.cpp\n",
        "\n",
        "#include <iostream>\n",
        "#include <fstream>\n",
        "#include <cstdlib>\n",
        "\n",
        "using namespace std;\n",
        "\n",
        "int main() {\n",
        "  // Create and open a text file\n",
        "  ofstream MyFile(\"input13.txt\");\n",
        "\n",
        " MyFile << 11000 <<\"\\n\";  // n\n",
        " for (int i=1; i <11001; i++){\n",
        "     MyFile << i <<\" \";\n",
        " }\n",
        "\n",
        "  // Close the file\n",
        "  MyFile.close();\n",
        "}"
      ]
    },
    {
      "cell_type": "code",
      "execution_count": 81,
      "metadata": {
        "id": "AQ8N52pUMCeT"
      },
      "outputs": [],
      "source": [
        "!g++ WriteTest.cpp -o WriteTest\n",
        "!./WriteTest"
      ]
    },
    {
      "cell_type": "code",
      "execution_count": 82,
      "metadata": {
        "id": "2iIOdbTrEtBx",
        "colab": {
          "base_uri": "https://localhost:8080/"
        },
        "outputId": "02c7c084-03cd-40f8-e017-cfdea93035d0"
      },
      "outputs": [
        {
          "output_type": "execute_result",
          "data": {
            "text/plain": [
              "120989000"
            ]
          },
          "metadata": {},
          "execution_count": 82
        }
      ],
      "source": [
        "10999 * 11000"
      ]
    },
    {
      "cell_type": "code",
      "execution_count": 83,
      "metadata": {
        "id": "ussuAokfM2du",
        "colab": {
          "base_uri": "https://localhost:8080/"
        },
        "outputId": "55a9ce9e-7b80-4c2c-8634-46615033a076"
      },
      "outputs": [
        {
          "output_type": "stream",
          "name": "stdout",
          "text": [
            "120989000\n",
            "\n",
            "real\t0m0.860s\n",
            "user\t0m0.852s\n",
            "sys\t0m0.002s\n"
          ]
        }
      ],
      "source": [
        "!g++ max_pairwise_product_long_full.cpp -o max_pairwise_product_long_full\n",
        "!time ./max_pairwise_product_long_full< input13.txt"
      ]
    },
    {
      "cell_type": "markdown",
      "metadata": {
        "id": "Tm_AVmt-QQH4"
      },
      "source": [
        "## Python"
      ]
    },
    {
      "cell_type": "code",
      "execution_count": 84,
      "metadata": {
        "id": "gRCCcd7IQTKZ",
        "colab": {
          "base_uri": "https://localhost:8080/"
        },
        "outputId": "35f1cdf2-3949-4524-f702-688bafce7c2e"
      },
      "outputs": [
        {
          "output_type": "stream",
          "name": "stdout",
          "text": [
            "Writing max_pairwise_product_long_full.py\n"
          ]
        }
      ],
      "source": [
        "%%writefile max_pairwise_product_long_full.py\n",
        "def MaxPairwiseProduct(numbers):\n",
        "  max_product = 0\n",
        "  aux_product = 0\n",
        "  n = len(numbers)\n",
        "\n",
        "  for first in range (n):\n",
        "    for second in range(n):\n",
        "      if(first != second):\n",
        "        aux_product = numbers[first]*numbers[second]\n",
        "        if aux_product > max_product:\n",
        "          max_product = aux_product\n",
        "  return max_product\n",
        "\n",
        "n = int(input())\n",
        "numbers = [int(i) for i in input().split()]\n",
        "print(MaxPairwiseProduct(numbers))\n"
      ]
    },
    {
      "cell_type": "code",
      "execution_count": 85,
      "metadata": {
        "id": "hjw7TJrDL0d-",
        "colab": {
          "base_uri": "https://localhost:8080/"
        },
        "outputId": "20f0f863-a668-4189-f45d-ba07f5b2747f"
      },
      "outputs": [
        {
          "output_type": "stream",
          "name": "stdout",
          "text": [
            "120989000\n",
            "\n",
            "real\t0m19.314s\n",
            "user\t0m19.172s\n",
            "sys\t0m0.021s\n"
          ]
        }
      ],
      "source": [
        "# Verify\n",
        "!time python3 max_pairwise_product_long_full.py < input13.txt"
      ]
    },
    {
      "cell_type": "markdown",
      "metadata": {
        "id": "fEZR-3V4ZjCv"
      },
      "source": [
        "# For the follwing solutions rquired  the same tests and analysis performed for the first solution"
      ]
    },
    {
      "cell_type": "markdown",
      "metadata": {
        "id": "MKQKSC-vKePK"
      },
      "source": [
        "## Solutions in C++ and Python that uses\n",
        "$$\\frac{n^2 - n}{2} = O(n^2)\\ \\ \\text{products}$$"
      ]
    },
    {
      "cell_type": "code",
      "execution_count": 86,
      "metadata": {
        "id": "jkkHHoxSK65p",
        "colab": {
          "base_uri": "https://localhost:8080/"
        },
        "outputId": "a0151be7-2884-4cff-bd19-b1a5ad263503"
      },
      "outputs": [
        {
          "output_type": "stream",
          "name": "stdout",
          "text": [
            "Writing max_pairwise_product.cpp\n"
          ]
        }
      ],
      "source": [
        "%%writefile max_pairwise_product.cpp\n",
        "#include <iostream>\n",
        "#include <vector>\n",
        "#include <algorithm>\n",
        "\n",
        "int MaxPairwiseProduct(const std::vector<int>& numbers) {\n",
        "    int max_product = 0;\n",
        "    int n = numbers.size();\n",
        "\n",
        "    for (int first = 0; first < n; ++first) {\n",
        "        for (int second = first + 1; second < n; ++second) {\n",
        "            max_product = std::max(max_product,\n",
        "                numbers[first] * numbers[second]);\n",
        "        }\n",
        "    }\n",
        "\n",
        "    return max_product;\n",
        "}\n",
        "\n",
        "int main() {\n",
        "    int n;\n",
        "    std::cin >> n;\n",
        "    std::vector<int> numbers(n);\n",
        "    for (int i = 0; i < n; ++i) {\n",
        "        std::cin >> numbers[i];\n",
        "    }\n",
        "\n",
        "    std::cout << MaxPairwiseProduct(numbers) << \"\\n\";\n",
        "    return 0;\n",
        "}"
      ]
    },
    {
      "cell_type": "code",
      "execution_count": 87,
      "metadata": {
        "id": "sU8-Ote7K8vz",
        "colab": {
          "base_uri": "https://localhost:8080/"
        },
        "outputId": "290b7022-2a1c-41a2-c166-244fbc7e1e0a"
      },
      "outputs": [
        {
          "output_type": "stream",
          "name": "stdout",
          "text": [
            "Writing max_pairwise_product_long.cpp\n"
          ]
        }
      ],
      "source": [
        "%%writefile max_pairwise_product_long.cpp\n",
        "#include <iostream>\n",
        "#include <vector>\n",
        "#include <algorithm>\n",
        "\n",
        "long long MaxPairwiseProduct(const std::vector<int>& numbers) {              //INSTRUCTIONS executed by line\n",
        "    long long max_product = 0LL;                                             //1\n",
        "\t  long long aux_product = 0LL;                                             //1\n",
        "    int n = numbers.size();                                                  //1\n",
        "\n",
        "    for (int first = 0; first < n; ++first) {                                //2+2n\n",
        "        for (int second = first + 1; second < n; ++second) {                 //2n + (n-1)n\n",
        "\t\t\t       aux_product =  (long long) numbers[first] * numbers[second];    //(n-1)n/2\n",
        "            if (max_product < aux_product)  {                                //(n-1)n/2\n",
        "\t\t\t\t        max_product = aux_product;                                   //[1,(n-1)n/2)  upper bound\n",
        "             }\n",
        "        }\n",
        "    }\n",
        "                                                                             // --------------\n",
        "    return max_product;                                                      // 5 + 4n + [2(n-1)n+1, 2.5 (n-1)n) upper bound\n",
        "}\n",
        "\n",
        "int main() {                                              //INSTRUCTIONS executed by line\n",
        "    int n;                                                //1\n",
        "    std::cin >> n;                                        //1\n",
        "    std::vector<int> numbers(n);                          //n\n",
        "    for (int i = 0; i < n; ++i) {                         //2 + 2n\n",
        "        std::cin >> numbers[i];                           //n\n",
        "    }\n",
        "\n",
        "    std::cout << MaxPairwiseProduct(numbers) << \"\\n\";     //1 + 1  + 5 + 4n + [2(n-1)n+1, 2.5 (n-1)n) upper bound\n",
        "    return 0;                                             // --------------\n",
        "}                                                         // 11 + 7n + [2(n-1)n+1, 2.5 (n-1)n) upper bound\n"
      ]
    },
    {
      "cell_type": "code",
      "execution_count": 88,
      "metadata": {
        "id": "5QWT3fneK8nw",
        "colab": {
          "base_uri": "https://localhost:8080/"
        },
        "outputId": "1ba461c9-bc00-4bcb-caf3-1d918ece70ae"
      },
      "outputs": [
        {
          "output_type": "stream",
          "name": "stdout",
          "text": [
            "120989000\n",
            "\n",
            "real\t0m0.648s\n",
            "user\t0m0.614s\n",
            "sys\t0m0.004s\n"
          ]
        }
      ],
      "source": [
        "!g++ max_pairwise_product_long.cpp -o max_pairwise_product_long\n",
        "!time ./max_pairwise_product_long < input13.txt"
      ]
    },
    {
      "cell_type": "markdown",
      "metadata": {
        "id": "zxCvxiB-XQJh"
      },
      "source": [
        "### Estimate and verify the maximun n that can be solved in 1 second\n",
        "\n"
      ]
    },
    {
      "cell_type": "code",
      "execution_count": 89,
      "metadata": {
        "id": "Su8drkhrZwcp",
        "colab": {
          "base_uri": "https://localhost:8080/"
        },
        "outputId": "4a95b466-7444-4d5a-b1c8-b09e274bfbfc"
      },
      "outputs": [
        {
          "output_type": "stream",
          "name": "stdout",
          "text": [
            "120989000\n",
            "\n",
            "real\t0m0.647s\n",
            "user\t0m0.627s\n",
            "sys\t0m0.001s\n"
          ]
        }
      ],
      "source": [
        "!g++ max_pairwise_product.cpp -o max_pairwise_product\n",
        "!time ./max_pairwise_product < input13.txt"
      ]
    },
    {
      "cell_type": "markdown",
      "metadata": {
        "id": "1Hsbd-uHOb_j"
      },
      "source": [
        "# Sort solution in C++ and Python\n",
        "\n",
        "$$ O(n \\lg n)$$\n",
        "\n",
        "**Which sorting algorithm is used in GCC?**\n",
        "https://stackoverflow.com/questions/7221257/which-sorting-algorithm-is-used-in-gcc\n",
        "\n",
        "* ...  the algorithm is called introsort, a combination between Insertionsort, Quicksort & Heapsort. ...\n",
        "\n",
        "**Introsort**\n",
        "https://en.wikipedia.org/wiki/Introsort\n",
        "\n",
        "Introsort or introspective sort is a hybrid sorting algorithm that provides both fast average performance and (asymptotically) optimal worst-case performance. It begins with quicksort, it switches to heapsort when the recursion depth exceeds a level based on (the logarithm of) the number of elements being sorted and it switches to insertion sort when the number of elements is below some threshold\n",
        "\n",
        "*   Class\tSorting algorithm\n",
        "*   Data structure\tArray\n",
        "*   Worst-case performance\t$O(n \\lg n)$\n",
        "*   Average performance\t$O(n \\lg n)$\n",
        "\n",
        "**Tinsort**\n",
        "https://en.wikipedia.org/wiki/Timsort\n",
        "\n",
        "Timsort is a hybrid, stable sorting algorithm, derived from merge sort and insertion sort, designed to perform well on many kinds of real-world data. It was implemented by Tim Peters in 2002 for use in the Python programming language.\n",
        "\n",
        "*   Class\tSorting algorithm\n",
        "*   Data structure\tArray\n",
        "*   Worst-case performance\t$O(n \\lg n)$\n",
        "*   Best-case performance $O(n)$\n",
        "*   Average performance\t$O(n \\lg n)$\n",
        "*   Worst-case space complexity $O(n)$"
      ]
    },
    {
      "cell_type": "markdown",
      "metadata": {
        "id": "WMUthAXjOb_k"
      },
      "source": []
    },
    {
      "cell_type": "code",
      "execution_count": 90,
      "metadata": {
        "id": "jnIRWyUEDu_C",
        "colab": {
          "base_uri": "https://localhost:8080/"
        },
        "outputId": "474ba4d6-b847-49b3-e9dd-b3b39ce06feb"
      },
      "outputs": [
        {
          "output_type": "stream",
          "name": "stdout",
          "text": [
            "Writing max_pairwise_product_with_sort.py\n"
          ]
        }
      ],
      "source": [
        "\n",
        "%%writefile max_pairwise_product_with_sort.py\n",
        "#Python3\n",
        "if __name__ == \"__main__\":\n",
        "    n = int(input())\n",
        "    lista = list(map(int, input().split()))\n",
        "    lista.sort()\n",
        "    print(lista[n - 1] * lista[n - 2])"
      ]
    },
    {
      "cell_type": "code",
      "execution_count": 91,
      "metadata": {
        "id": "eIeqd8bsRL_x",
        "colab": {
          "base_uri": "https://localhost:8080/"
        },
        "outputId": "1b1dd6da-3195-4910-9591-ef46bddb198a"
      },
      "outputs": [
        {
          "output_type": "stream",
          "name": "stdout",
          "text": [
            "Writing max_pairwise_product_with_sort_C.cpp\n"
          ]
        }
      ],
      "source": [
        "\n",
        "%%writefile max_pairwise_product_with_sort_C.cpp\n",
        "#include\n",
        "#include\n",
        "#include\n",
        "\n",
        "int main() {\n",
        "    int n;\n",
        "    std::cin >> n;\n",
        "    std::vector numbers(n);\n",
        "    for (int i = 0; i < n; ++i) {\n",
        "        std::cin >> numbers[i];\n",
        "    }\n",
        "\n",
        "    std::sort(numbers.begin(), numbers.end());\n",
        "    std::cout << (long long) numbers[n - 1] * numbers[n - 2] << '\\n';\n",
        "\n",
        "    return 0;\n",
        "\n",
        "\n",
        "}\n"
      ]
    },
    {
      "cell_type": "markdown",
      "metadata": {
        "id": "v8pdV9ABOb_k"
      },
      "source": [
        "Test with inputs 1 and 2\n",
        "\n"
      ]
    },
    {
      "cell_type": "code",
      "execution_count": 92,
      "metadata": {
        "id": "kdXAyLG4Ob_k",
        "colab": {
          "base_uri": "https://localhost:8080/"
        },
        "outputId": "5ba65f7d-1368-4201-f99e-40846d8e81e2"
      },
      "outputs": [
        {
          "output_type": "stream",
          "name": "stdout",
          "text": [
            "/bin/bash: line 1: ./max_pairwise_product_with_sort_C: No such file or directory\n",
            "/bin/bash: line 1: ./max_pairwise_product_with_sort_C: No such file or directory\n"
          ]
        }
      ],
      "source": [
        "\n",
        "\n",
        "!./max_pairwise_product_with_sort_C < input1.txt\n",
        "!./max_pairwise_product_with_sort_C < input2.txt\n"
      ]
    },
    {
      "cell_type": "markdown",
      "metadata": {
        "id": "Sw-5X1q1Ob_k"
      },
      "source": [
        "Test and time it with input 3"
      ]
    },
    {
      "cell_type": "code",
      "execution_count": 93,
      "metadata": {
        "id": "ryHJ30WIOb_k",
        "colab": {
          "base_uri": "https://localhost:8080/"
        },
        "outputId": "4f0c0569-6a2f-4a6b-94aa-84f45820ae30"
      },
      "outputs": [
        {
          "output_type": "stream",
          "name": "stdout",
          "text": [
            "/bin/bash: line 1: ./max_pairwise_product_with_sort_C: No such file or directory\n",
            "\n",
            "real\t0m0.001s\n",
            "user\t0m0.001s\n",
            "sys\t0m0.000s\n"
          ]
        }
      ],
      "source": [
        "!time ./max_pairwise_product_with_sort_C < input3.txt"
      ]
    },
    {
      "cell_type": "code",
      "execution_count": 94,
      "metadata": {
        "id": "rS-bDpiYSjI5",
        "colab": {
          "base_uri": "https://localhost:8080/"
        },
        "outputId": "a0752622-6f5f-420e-bfd7-377725054592"
      },
      "outputs": [
        {
          "output_type": "stream",
          "name": "stdout",
          "text": [
            "40000000000\n",
            "CPU times: user 4.22 ms, sys: 2.88 ms, total: 7.1 ms\n",
            "Wall time: 105 ms\n"
          ]
        }
      ],
      "source": [
        "%%time\n",
        "!python max_pairwise_product_with_sort.py < input3.txt"
      ]
    },
    {
      "cell_type": "markdown",
      "metadata": {
        "id": "oJGdPl1HOb_k"
      },
      "source": [
        "20 stress tests"
      ]
    },
    {
      "cell_type": "code",
      "execution_count": 95,
      "metadata": {
        "id": "pXHtO1dEOb_k",
        "colab": {
          "base_uri": "https://localhost:8080/"
        },
        "outputId": "74d29d86-74f6-46fb-8352-637c46d0a224"
      },
      "outputs": [
        {
          "output_type": "stream",
          "name": "stdout",
          "text": [
            "Writing stress_tests.py\n"
          ]
        }
      ],
      "source": [
        "%%writefile stress_tests.py\n",
        "#Python3\n",
        "import random\n",
        "\n",
        "if __name__ == \"__main__\":\n",
        "    for i in range(20):\n",
        "        n = random.randint(2, 99)\n",
        "        lista = [random.randint(17, 25631) for i in range(n)]\n",
        "        lista.sort()\n",
        "        print(f\"n: {n} Product: {lista[n - 1] * lista[n - 2]}\")\n",
        "\n"
      ]
    },
    {
      "cell_type": "code",
      "execution_count": 96,
      "metadata": {
        "id": "wNjmy79CSnvv",
        "colab": {
          "base_uri": "https://localhost:8080/"
        },
        "outputId": "cb60f983-aedc-400c-a4dd-68afff5603be"
      },
      "outputs": [
        {
          "output_type": "stream",
          "name": "stdout",
          "text": [
            "Writing stress_tests_C.cpp\n"
          ]
        }
      ],
      "source": [
        "%%writefile stress_tests_C.cpp\n",
        "#include <iostream>\n",
        "#include <vector>\n",
        "#include <algorithm>\n",
        "#include <random>\n",
        "\n",
        "int main() {\n",
        "    std::random_device rd;\n",
        "    std::mt19937 gen(rd());\n",
        "    std::uniform_int_distribution<int> n_dist(2, 99);\n",
        "    std::uniform_int_distribution<int> num_dist(0, 25000);\n",
        "\n",
        "    for (int i = 0; i < 20; ++i ){\n",
        "          int n = n_dist(gen);                              //1\n",
        "          std::vector<int> numbers(n);                          //n\n",
        "          for (int i = 0; i < n; ++i) {                         //1 + 2n\n",
        "              numbers[i]= num_dist(gen);                           //n\n",
        "          }\n",
        "\n",
        "          std::sort(numbers.begin(), numbers.end());                          //nlogn\n",
        "          std::cout << \"n= \"<< n << \" Product= \" << (long long) numbers[n - 1] * numbers[n - 2] << '\\n';   //2\n",
        "    }\n",
        "    return 0;\n",
        "}"
      ]
    },
    {
      "cell_type": "code",
      "execution_count": 97,
      "metadata": {
        "id": "KCDFP8J1SqWo",
        "colab": {
          "base_uri": "https://localhost:8080/"
        },
        "outputId": "96b9d0ce-be24-4005-a5e9-46cba617086b"
      },
      "outputs": [
        {
          "output_type": "stream",
          "name": "stdout",
          "text": [
            "n= 6 Product= 556166247\n",
            "n= 16 Product= 539926028\n",
            "n= 49 Product= 595863010\n",
            "n= 24 Product= 581867859\n",
            "n= 97 Product= 606315882\n",
            "n= 24 Product= 585211080\n",
            "n= 11 Product= 467252388\n",
            "n= 76 Product= 584267526\n",
            "n= 64 Product= 610994365\n",
            "n= 39 Product= 514336512\n",
            "n= 50 Product= 515067088\n",
            "n= 72 Product= 610120683\n",
            "n= 13 Product= 592331683\n",
            "n= 52 Product= 591709755\n",
            "n= 50 Product= 575407000\n",
            "n= 92 Product= 599251240\n",
            "n= 85 Product= 611914494\n",
            "n= 48 Product= 582556260\n",
            "n= 28 Product= 606860121\n",
            "n= 20 Product= 577446298\n"
          ]
        }
      ],
      "source": [
        "!g++ stress_tests_C.cpp -o stress_tests_C\n",
        "!./stress_tests_C"
      ]
    },
    {
      "cell_type": "code",
      "execution_count": 98,
      "metadata": {
        "id": "RObUyHptSrtH",
        "colab": {
          "base_uri": "https://localhost:8080/"
        },
        "outputId": "5a3cd117-e3d3-4618-f63c-1c394663c2f6"
      },
      "outputs": [
        {
          "output_type": "stream",
          "name": "stdout",
          "text": [
            "n: 56 Product: 620886060\n",
            "n: 36 Product: 612604605\n",
            "n: 17 Product: 530441802\n",
            "n: 89 Product: 610891800\n",
            "n: 51 Product: 566519882\n",
            "n: 38 Product: 641554016\n",
            "n: 88 Product: 636834345\n",
            "n: 49 Product: 641285929\n",
            "n: 84 Product: 651500080\n",
            "n: 49 Product: 584954496\n",
            "n: 95 Product: 640798547\n",
            "n: 37 Product: 611850652\n",
            "n: 78 Product: 634450068\n",
            "n: 90 Product: 618533938\n",
            "n: 76 Product: 630185160\n",
            "n: 85 Product: 650020508\n",
            "n: 87 Product: 654054588\n",
            "n: 46 Product: 599541162\n",
            "n: 75 Product: 638267295\n",
            "n: 39 Product: 577835100\n"
          ]
        }
      ],
      "source": [
        "!python stress_tests.py"
      ]
    },
    {
      "cell_type": "markdown",
      "metadata": {
        "id": "2beTmWFPOb_k"
      },
      "source": [
        "Count executed instructions in code and verify with inputs 1,2 and 3\n"
      ]
    },
    {
      "cell_type": "code",
      "execution_count": 99,
      "metadata": {
        "id": "iuByv4x1Ob_k",
        "colab": {
          "base_uri": "https://localhost:8080/"
        },
        "outputId": "632d5732-c6b3-4dc9-ff43-da2da5277cf6"
      },
      "outputs": [
        {
          "output_type": "stream",
          "name": "stdout",
          "text": [
            "Writing max_pairwise_product_with_sort_and_instructions.py\n"
          ]
        }
      ],
      "source": [
        "%%writefile max_pairwise_product_with_sort_and_instructions.py\n",
        "#Python3\n",
        "import math\n",
        "if __name__ == \"__main__\":\n",
        "    inst=0\n",
        "    n = int(input())\n",
        "    inst+=1\n",
        "    lista = list(map(int, input().split()))\n",
        "    inst+= 4*n\n",
        "    lista.sort()\n",
        "    inst+=  n * math.log2(n)\n",
        "    print(lista[n - 1] * lista[n - 2])\n",
        "    inst+=1\n",
        "    print(f\"Instrucciones ejecutadas: {int(inst)}\\n\")"
      ]
    },
    {
      "cell_type": "code",
      "execution_count": 100,
      "metadata": {
        "id": "UAM9-ahySvoQ",
        "colab": {
          "base_uri": "https://localhost:8080/"
        },
        "outputId": "70a70b83-ef66-4642-8d69-ca1d60856c71"
      },
      "outputs": [
        {
          "output_type": "stream",
          "name": "stdout",
          "text": [
            "Writing max_pairwise_product_with_sort_C_and_instructions.cpp\n"
          ]
        }
      ],
      "source": [
        "%%writefile max_pairwise_product_with_sort_C_and_instructions.cpp\n",
        "#include <iostream>\n",
        "#include <vector>\n",
        "#include <algorithm>\n",
        "#include <cmath>\n",
        "\n",
        "int main() {\n",
        "    int inst;\n",
        "    int n;                                                //1\n",
        "    inst++;\n",
        "    std::cin >> n;                                        //1\n",
        "    inst++;\n",
        "    std::vector<int> numbers(n);                          //n\n",
        "    inst+=n;\n",
        "    inst+=1;                                              // add the declaration of i=0\n",
        "    for (int i = 0; i < n; ++i) {                         //1 + 2n\n",
        "        inst+=2;\n",
        "        std::cin >> numbers[i];                           //n\n",
        "        inst++;\n",
        "    }\n",
        "\n",
        "    std::sort(numbers.begin(), numbers.end());                          //nlogn\n",
        "    inst+=n * log2(n);\n",
        "    std::cout << (long long) numbers[n - 1] * numbers[n - 2] << '\\n';   //2\n",
        "    inst+=2;\n",
        "    std::cout << \"Instrucciones Ejecutadas: \" << inst << '\\n';\n",
        "    return 0;\n",
        "\n",
        "\n",
        "}"
      ]
    },
    {
      "cell_type": "code",
      "execution_count": 101,
      "metadata": {
        "id": "6uVn8KKLohHj"
      },
      "outputs": [],
      "source": [
        "!g++ max_pairwise_product_with_sort_C_and_instructions.cpp -o max_pairwise_product_with_sort_C_and_instructions"
      ]
    },
    {
      "cell_type": "code",
      "execution_count": 102,
      "metadata": {
        "id": "1UW5Ve6koitK",
        "colab": {
          "base_uri": "https://localhost:8080/"
        },
        "outputId": "06a9569a-c22a-41ba-b234-2a6a093b5e54"
      },
      "outputs": [
        {
          "output_type": "stream",
          "name": "stdout",
          "text": [
            "90\n",
            "Instrucciones Ejecutadas: 78\n",
            "90\n",
            "Instrucciones Ejecutadas: 78\n",
            "40000000000\n",
            "Instrucciones Ejecutadas: 44\n"
          ]
        }
      ],
      "source": [
        "!./max_pairwise_product_with_sort_C_and_instructions < input1.txt\n",
        "!./max_pairwise_product_with_sort_C_and_instructions < input2.txt\n",
        "!./max_pairwise_product_with_sort_C_and_instructions < input3.txt"
      ]
    },
    {
      "cell_type": "code",
      "execution_count": 103,
      "metadata": {
        "id": "NSg5O6bfoj2g",
        "colab": {
          "base_uri": "https://localhost:8080/"
        },
        "outputId": "c3b5286f-ab52-4ad5-f11f-c2cc0a56d0e5"
      },
      "outputs": [
        {
          "output_type": "stream",
          "name": "stdout",
          "text": [
            "90\n",
            "Instrucciones ejecutadas: 75\n",
            "\n",
            "90\n",
            "Instrucciones ejecutadas: 75\n",
            "\n",
            "40000000000\n",
            "Instrucciones ejecutadas: 41\n",
            "\n"
          ]
        }
      ],
      "source": [
        "!python max_pairwise_product_with_sort_and_instructions.py < input1.txt\n",
        "!python max_pairwise_product_with_sort_and_instructions.py < input2.txt\n",
        "!python max_pairwise_product_with_sort_and_instructions.py < input3.txt"
      ]
    },
    {
      "cell_type": "markdown",
      "metadata": {
        "id": "x2CXhkwTOb_l"
      },
      "source": [
        "Calculate estimated time by instruction and number of instructions by second"
      ]
    },
    {
      "cell_type": "code",
      "execution_count": 104,
      "metadata": {
        "id": "nTjxyTMtOb_l",
        "colab": {
          "base_uri": "https://localhost:8080/"
        },
        "outputId": "194ddbdd-092b-4eb4-e828-592446390166"
      },
      "outputs": [
        {
          "output_type": "stream",
          "name": "stdout",
          "text": [
            "Writing max_pairwise_product_with_sort_and_instructions_with_time_and_IbS.py\n"
          ]
        }
      ],
      "source": [
        "%%writefile max_pairwise_product_with_sort_and_instructions_with_time_and_IbS.py\n",
        "#Python3\n",
        "import math\n",
        "import time\n",
        "if __name__ == \"__main__\":\n",
        "    inicio = time.time()\n",
        "    inst=0\n",
        "    n = int(input())\n",
        "    inst+=1\n",
        "    lista = list(map(int, input().split()))\n",
        "    inst+= 4*n\n",
        "    lista.sort()\n",
        "    inst+=  n * math.log2(n)\n",
        "    print(lista[n - 1] * lista[n - 2])\n",
        "    inst+=1\n",
        "    print(f\"Instrucciones ejecutadas: {int(inst)}\")\n",
        "    fin = time.time()\n",
        "    tiempo_total = fin - inicio\n",
        "    instructionTime = tiempo_total/inst\n",
        "    instructionBySecond= inst/tiempo_total\n",
        "\n",
        "    print(f\"Tiempo total de ejecución: {tiempo_total*1000} milisegundos\")\n",
        "    print(f\"Tiempo estimado de cada instruccion: {instructionTime*1000} milisegundos\")\n",
        "    print(f\"Instrucciones por segundo: {int(instructionBySecond)} \")"
      ]
    },
    {
      "cell_type": "markdown",
      "metadata": {
        "id": "CcgDYDQuaFeH"
      },
      "source": [
        "### Estimate and verify the maximun n that can be solved in 1 second"
      ]
    },
    {
      "cell_type": "code",
      "execution_count": 105,
      "metadata": {
        "id": "fLztHReKaGFq",
        "colab": {
          "base_uri": "https://localhost:8080/"
        },
        "outputId": "aebedca6-9282-4ec5-dad0-488b71783eb8"
      },
      "outputs": [
        {
          "output_type": "stream",
          "name": "stdout",
          "text": [
            "120989000\n",
            "Instrucciones ejecutadas: 191679\n",
            "Tiempo total de ejecución: 4.066705703735352 milisegundos\n",
            "Tiempo estimado de cada instruccion: 2.121618825753666e-05 milisegundos\n",
            "Instrucciones por segundo: 47133820 \n"
          ]
        }
      ],
      "source": [
        "!python max_pairwise_product_with_sort_and_instructions_with_time_and_IbS.py < input13.txt"
      ]
    },
    {
      "cell_type": "markdown",
      "metadata": {
        "id": "VMKC5duEOQfk"
      },
      "source": [
        "## Efficient solution with largest and second-largest in an list, array or vector in C++ and Python\n",
        "\n",
        " $$T(n) < 10 n  = O(n)$$\n",
        "\n",
        "\n",
        "\n"
      ]
    },
    {
      "cell_type": "markdown",
      "metadata": {
        "id": "nLcKBwbU0QsE"
      },
      "source": [
        "Add in each line a coment with the number of intstrcution that are executed in that line"
      ]
    },
    {
      "cell_type": "code",
      "execution_count": 106,
      "metadata": {
        "id": "knls5Fh3NSt_",
        "colab": {
          "base_uri": "https://localhost:8080/"
        },
        "outputId": "6be61893-809e-455d-8f97-938897a24cbf"
      },
      "outputs": [
        {
          "output_type": "stream",
          "name": "stdout",
          "text": [
            "Writing max_pairwise_product_long_efficient.cpp\n"
          ]
        }
      ],
      "source": [
        "%%writefile max_pairwise_product_long_efficient.cpp\n",
        "#include <iostream>\n",
        "#include <vector>\n",
        "#include <algorithm>\n",
        "\n",
        "long long MaxPairwiseProduct(const std::vector<int>& numbers) {\n",
        "    long long max_product = 0LL;                                             //1\n",
        "\t  long long n_major = 0LL;\n",
        "    long long n_major_2 = 0LL;                                             //1\n",
        "    int n = numbers.size();                                                  //1\n",
        "\n",
        "    for(int i = 0; i < n; ++i) {                   //1 + 2n\n",
        "      if (numbers[i] > n_major){\n",
        "        n_major_2 = n_major ;                //n\n",
        "        n_major = numbers[i];\n",
        "      }\n",
        "      else if (numbers[i] > n_major_2){                   //n\n",
        "        n_major_2 = numbers[i];                    //[0, n]\n",
        "\n",
        "      }\n",
        "    }\n",
        "    max_product=n_major*n_major_2;                                                                          // --------------\n",
        "    return max_product;\n",
        "}\n",
        "\n",
        "int main() {\n",
        "    int n;                                                //1\n",
        "    std::cin >> n;                                        //1\n",
        "    std::vector<int> numbers(n);                          //n\n",
        "    for (int i = 0; i < n; ++i) {                         //1 + 2n\n",
        "        std::cin >> numbers[i];                           //n\n",
        "    }\n",
        "\n",
        "    std::cout << MaxPairwiseProduct(numbers) << \"\\n\";\n",
        "    return 0;\n",
        "}"
      ]
    },
    {
      "cell_type": "code",
      "execution_count": 107,
      "metadata": {
        "id": "eUUVrleuoo3a"
      },
      "outputs": [],
      "source": [
        "!g++ max_pairwise_product_long_efficient.cpp -o max_pairwise_product_long_efficient"
      ]
    },
    {
      "cell_type": "code",
      "execution_count": 108,
      "metadata": {
        "id": "Q5vVBaXIoqNq",
        "colab": {
          "base_uri": "https://localhost:8080/"
        },
        "outputId": "a6e6bbf6-7cf6-40c1-e3ba-81e245f06cb6"
      },
      "outputs": [
        {
          "output_type": "stream",
          "name": "stdout",
          "text": [
            "Writing max_pairwise_product_efficient.py\n"
          ]
        }
      ],
      "source": [
        "%%writefile max_pairwise_product_efficient.py\n",
        "#Python3\n",
        "def max_pairwise_product(lista):\n",
        "    n_major = 0\n",
        "    n_major_2 = 0\n",
        "    max_product = 0\n",
        "    for i in lista:\n",
        "        if i > n_major:\n",
        "            n_major_2=n_major\n",
        "            n_major = i\n",
        "        elif i > n_major_2:\n",
        "            n_major_2=i\n",
        "    max_product = n_major_2 * n_major\n",
        "\n",
        "    return max_product\n",
        "\n",
        "if __name__ == \"__main__\":\n",
        "    n = int(input())\n",
        "    lista = list(map(int, input().split()))\n",
        "    print(max_pairwise_product(lista))"
      ]
    },
    {
      "cell_type": "markdown",
      "metadata": {
        "id": "-JCijbWxNSii"
      },
      "source": [
        "Test with inputs 1 and 2\n",
        "\n"
      ]
    },
    {
      "cell_type": "code",
      "execution_count": 109,
      "metadata": {
        "id": "TrTGAfqlNVXT",
        "colab": {
          "base_uri": "https://localhost:8080/"
        },
        "outputId": "4c971250-4e94-4b9b-af85-b1c9969f38a2"
      },
      "outputs": [
        {
          "output_type": "stream",
          "name": "stdout",
          "text": [
            "90\n",
            "90\n"
          ]
        }
      ],
      "source": [
        "!./max_pairwise_product_long_efficient < input1.txt\n",
        "!./max_pairwise_product_long_efficient < input2.txt\n"
      ]
    },
    {
      "cell_type": "code",
      "execution_count": 110,
      "metadata": {
        "id": "9Bn6RXEao7N_",
        "colab": {
          "base_uri": "https://localhost:8080/"
        },
        "outputId": "aa08594b-84d8-457c-a2b9-119883a47186"
      },
      "outputs": [
        {
          "output_type": "stream",
          "name": "stdout",
          "text": [
            "90\n",
            "90\n"
          ]
        }
      ],
      "source": [
        "!python max_pairwise_product_efficient.py < input1.txt\n",
        "!python max_pairwise_product_efficient.py < input2.txt"
      ]
    },
    {
      "cell_type": "markdown",
      "metadata": {
        "id": "PRX51wADNR8b"
      },
      "source": [
        "Test and time it with input 3"
      ]
    },
    {
      "cell_type": "code",
      "execution_count": 111,
      "metadata": {
        "id": "v4z7-Is_NRt7",
        "colab": {
          "base_uri": "https://localhost:8080/"
        },
        "outputId": "915503c2-96f9-40ce-a6e9-9c18d158b0c5"
      },
      "outputs": [
        {
          "output_type": "stream",
          "name": "stdout",
          "text": [
            "40000000000\n",
            "CPU times: user 5.47 ms, sys: 722 µs, total: 6.19 ms\n",
            "Wall time: 105 ms\n"
          ]
        }
      ],
      "source": [
        "%%time\n",
        "!python max_pairwise_product_efficient.py < input3.txt"
      ]
    },
    {
      "cell_type": "code",
      "execution_count": 112,
      "metadata": {
        "id": "8zjB2mExo9Rp",
        "colab": {
          "base_uri": "https://localhost:8080/"
        },
        "outputId": "55911d41-9235-481a-850a-c6ecd31e1da5"
      },
      "outputs": [
        {
          "output_type": "stream",
          "name": "stdout",
          "text": [
            "40000000000\n",
            "\n",
            "real\t0m0.003s\n",
            "user\t0m0.000s\n",
            "sys\t0m0.002s\n"
          ]
        }
      ],
      "source": [
        "!time ./max_pairwise_product_long_efficient < input3.txt"
      ]
    },
    {
      "cell_type": "markdown",
      "metadata": {
        "id": "rpdfs0_TNZJf"
      },
      "source": [
        "20 stress tests"
      ]
    },
    {
      "cell_type": "code",
      "execution_count": 113,
      "metadata": {
        "id": "Lu4tYcKzNcTT",
        "colab": {
          "base_uri": "https://localhost:8080/"
        },
        "outputId": "f5ec1007-2445-4f8a-f679-edff2096b969"
      },
      "outputs": [
        {
          "output_type": "stream",
          "name": "stdout",
          "text": [
            "Writing max_pairwise_product_long_efficient_stress_test.cpp\n"
          ]
        }
      ],
      "source": [
        "%%writefile max_pairwise_product_long_efficient_stress_test.cpp\n",
        "#include <iostream>\n",
        "#include <vector>\n",
        "#include <algorithm>\n",
        "#include <random>\n",
        "\n",
        "long long MaxPairwiseProduct(const std::vector<int>& numbers) {\n",
        "    long long max_product = 0LL;                                             //1\n",
        "\t  long long n_major = 0LL;\n",
        "    long long n_major_2 = 0LL;                                             //1\n",
        "    int n = numbers.size();                                                  //1\n",
        "\n",
        "    for(int i = 0; i < n; ++i) {                   //1 + 2n\n",
        "      if (numbers[i] > n_major){\n",
        "        n_major_2 = n_major ;                //n\n",
        "        n_major = numbers[i];\n",
        "      }\n",
        "      else if (numbers[i] > n_major_2){                   //n\n",
        "        n_major_2 = numbers[i];                    //[0, n]\n",
        "\n",
        "      }\n",
        "    }\n",
        "    max_product=n_major*n_major_2;                                                                          // --------------\n",
        "    return max_product;\n",
        "}\n",
        "\n",
        "int main() {\n",
        "    std::random_device rd;\n",
        "    std::mt19937 gen(rd());\n",
        "    std::uniform_int_distribution<int> n_dist(2, 99);\n",
        "    std::uniform_int_distribution<int> num_dist(0, 25000);\n",
        "    int n;                                                //1\n",
        "    std::vector<int> numbers(n);                          //n\n",
        "    for (int i = 0; i < 20; ++i ){\n",
        "      int n = n_dist(gen);                              //1\n",
        "      std::vector<int> numbers(n);                          //n\n",
        "      for (int i = 0; i < n; ++i) {                         //1 + 2n\n",
        "        numbers[i]= num_dist(gen);                           //n\n",
        "      }\n",
        "      std::cout << \"n= \"<< n << \" Product= \" << MaxPairwiseProduct(numbers) << \"\\n\";\n",
        "    }\n",
        "    return 0;\n",
        "}"
      ]
    },
    {
      "cell_type": "code",
      "execution_count": 114,
      "metadata": {
        "id": "AdKw6G9LpBl4",
        "colab": {
          "base_uri": "https://localhost:8080/"
        },
        "outputId": "3f89dc65-2056-4f02-c3db-00c673988803"
      },
      "outputs": [
        {
          "output_type": "stream",
          "name": "stdout",
          "text": [
            "n= 58 Product= 551540988\n",
            "n= 78 Product= 613750292\n",
            "n= 70 Product= 606503656\n",
            "n= 23 Product= 464189534\n",
            "n= 44 Product= 588720087\n",
            "n= 36 Product= 575460954\n",
            "n= 85 Product= 619853213\n",
            "n= 83 Product= 583070000\n",
            "n= 33 Product= 590055462\n",
            "n= 21 Product= 485704296\n",
            "n= 19 Product= 566922354\n",
            "n= 75 Product= 596232567\n",
            "n= 16 Product= 567585326\n",
            "n= 86 Product= 603668516\n",
            "n= 27 Product= 589739500\n",
            "n= 14 Product= 509496408\n",
            "n= 9 Product= 441490195\n",
            "n= 47 Product= 585314312\n",
            "n= 83 Product= 601619063\n",
            "n= 33 Product= 563843514\n"
          ]
        }
      ],
      "source": [
        "!g++ max_pairwise_product_long_efficient_stress_test.cpp -o max_pairwise_product_long_efficient_stress_test\n",
        "!./max_pairwise_product_long_efficient_stress_test"
      ]
    },
    {
      "cell_type": "code",
      "execution_count": 115,
      "metadata": {
        "id": "_FqUzDaFpFIh",
        "colab": {
          "base_uri": "https://localhost:8080/"
        },
        "outputId": "bce65a24-2f8a-4400-ae7d-07be47fa17a7"
      },
      "outputs": [
        {
          "output_type": "stream",
          "name": "stdout",
          "text": [
            "Writing max_pairwise_product_efficient_stress_tests.py\n"
          ]
        }
      ],
      "source": [
        "%%writefile max_pairwise_product_efficient_stress_tests.py\n",
        "#Python3\n",
        "import random\n",
        "def max_pairwise_product(lista):\n",
        "    n_major = 0\n",
        "    n_major_2 = 0\n",
        "    max_product = 0\n",
        "    for i in lista:\n",
        "        if i > n_major:\n",
        "            n_major_2=n_major\n",
        "            n_major = i\n",
        "        elif i > n_major_2:\n",
        "            n_major_2=i\n",
        "    max_product = n_major_2 * n_major\n",
        "\n",
        "    return max_product\n",
        "\n",
        "if __name__ == \"__main__\":\n",
        "    for i in range(20):\n",
        "      n = random.randint(2, 99)\n",
        "      lista = [random.randint(17, 25631) for i in range(n)]\n",
        "      print(f\"n=  {n}   Product= {max_pairwise_product(lista)}\")"
      ]
    },
    {
      "cell_type": "code",
      "execution_count": 116,
      "metadata": {
        "id": "BKAWadCgpGJp",
        "colab": {
          "base_uri": "https://localhost:8080/"
        },
        "outputId": "461622dc-6fe2-4a52-fedb-70adde14e952"
      },
      "outputs": [
        {
          "output_type": "stream",
          "name": "stdout",
          "text": [
            "Overwriting max_pairwise_product_efficient_stress_tests.py\n"
          ]
        }
      ],
      "source": [
        "%%writefile max_pairwise_product_efficient_stress_tests.py\n",
        "#Python3\n",
        "import random\n",
        "def max_pairwise_product(lista):\n",
        "    n_major = 0\n",
        "    n_major_2 = 0\n",
        "    max_product = 0\n",
        "    for i in lista:\n",
        "        if i > n_major:\n",
        "            n_major_2=n_major\n",
        "            n_major = i\n",
        "        elif i > n_major_2:\n",
        "            n_major_2=i\n",
        "    max_product = n_major_2 * n_major\n",
        "\n",
        "    return max_product\n",
        "\n",
        "if __name__ == \"__main__\":\n",
        "    for i in range(20):\n",
        "      n = random.randint(2, 99)\n",
        "      lista = [random.randint(17, 25631) for i in range(n)]\n",
        "      print(f\"n=  {n}   Product= {max_pairwise_product(lista)}\")"
      ]
    },
    {
      "cell_type": "markdown",
      "metadata": {
        "id": "L8U4151JNbxk"
      },
      "source": [
        "Count executed instructions in code and verify with inputs 1,2 and 3\n"
      ]
    },
    {
      "cell_type": "code",
      "execution_count": 117,
      "metadata": {
        "id": "dh85RM8vNhFz",
        "colab": {
          "base_uri": "https://localhost:8080/"
        },
        "outputId": "cd70f996-2849-4435-f2cd-afa315c50f08"
      },
      "outputs": [
        {
          "output_type": "stream",
          "name": "stdout",
          "text": [
            "Writing max_pairwise_product_long_efficient_and_instructions.cpp\n"
          ]
        }
      ],
      "source": [
        "%%writefile max_pairwise_product_long_efficient_and_instructions.cpp\n",
        "#include <iostream>\n",
        "#include <vector>\n",
        "#include <algorithm>\n",
        "\n",
        "long long inst= 0LL;\n",
        "\n",
        "long long MaxPairwiseProduct(const std::vector<int>& numbers) {\n",
        "    long long max_product = 0LL;                                             //1\n",
        "    inst++;\n",
        "\t  long long n_major = 0LL;\n",
        "    inst++;\n",
        "    long long n_major_2 = 0LL;                                             //1\n",
        "    inst++;\n",
        "    int n = numbers.size();                                                  //1\n",
        "    inst++;\n",
        "    inst++;\n",
        "    for(int i = 0; i < n; ++i) {                   //1 + 2n\n",
        "      inst+=2;\n",
        "      inst++;\n",
        "      if (numbers[i] > n_major){\n",
        "        inst++;\n",
        "        n_major_2 = n_major ;                //n\n",
        "        inst++;\n",
        "        n_major = numbers[i];\n",
        "        inst++;\n",
        "      }\n",
        "      else if (numbers[i] > n_major_2){\n",
        "        inst++;\n",
        "        n_major_2 = numbers[i];                    //[0, n]\n",
        "        inst++;\n",
        "        inst++;\n",
        "      }\n",
        "    }\n",
        "    max_product=n_major*n_major_2;\n",
        "    inst++;                                                                         // --------------\n",
        "    return max_product;\n",
        "}\n",
        "\n",
        "int main() {\n",
        "    int n;                                                //1\n",
        "    inst++;\n",
        "    std::cin >> n;                                        //1\n",
        "    inst++;\n",
        "    std::vector<int> numbers(n);                          //n\n",
        "    inst++;\n",
        "    inst++;\n",
        "    for (int i = 0; i < n; ++i) {                         //1 + 2n\n",
        "        std::cin >> numbers[i];                           //n\n",
        "    }\n",
        "    inst+=n;\n",
        "\n",
        "    std::cout << MaxPairwiseProduct(numbers) << \"\\n\";\n",
        "    inst++;\n",
        "    std::cout <<\"Numero de instrucciones: \"<< inst << \"\\n\";\n",
        "    return 0;\n",
        "}"
      ]
    },
    {
      "cell_type": "code",
      "execution_count": 118,
      "metadata": {
        "id": "RZI2xreopJhh"
      },
      "outputs": [],
      "source": [
        "!g++ max_pairwise_product_long_efficient_and_instructions.cpp -o max_pairwise_product_long_efficient_and_instructions\n"
      ]
    },
    {
      "cell_type": "code",
      "execution_count": 119,
      "metadata": {
        "id": "AYUSu-mKpKt_",
        "colab": {
          "base_uri": "https://localhost:8080/"
        },
        "outputId": "ad8a9728-c880-4c5c-9740-ec1576123b3e"
      },
      "outputs": [
        {
          "output_type": "stream",
          "name": "stdout",
          "text": [
            "90\n",
            "Numero de instrucciones: 81\n",
            "90\n",
            "Numero de instrucciones: 57\n",
            "40000000000\n",
            "Numero de instrucciones: 50\n"
          ]
        }
      ],
      "source": [
        "!./max_pairwise_product_long_efficient_and_instructions < input1.txt\n",
        "!./max_pairwise_product_long_efficient_and_instructions < input2.txt\n",
        "!./max_pairwise_product_long_efficient_and_instructions < input3.txt"
      ]
    },
    {
      "cell_type": "code",
      "execution_count": 120,
      "metadata": {
        "id": "fr3SMc-DpL7a",
        "colab": {
          "base_uri": "https://localhost:8080/"
        },
        "outputId": "579de3e3-e7b6-40d0-af86-0e7ce00be1b8"
      },
      "outputs": [
        {
          "output_type": "stream",
          "name": "stdout",
          "text": [
            "Writing max_pairwise_product_efficient_and_instructions.py\n"
          ]
        }
      ],
      "source": [
        "%%writefile max_pairwise_product_efficient_and_instructions.py\n",
        "#Python3\n",
        "\n",
        "inst=0\n",
        "def max_pairwise_product(lista):\n",
        "    global inst\n",
        "    n_major = 0\n",
        "    inst+=1\n",
        "    n_major_2 = 0\n",
        "    inst+=1\n",
        "    max_product = 0\n",
        "    inst+=1\n",
        "    for i in lista:\n",
        "        inst+=1\n",
        "        if i > n_major:\n",
        "            inst+=1\n",
        "            n_major_2=n_major\n",
        "            inst+=1\n",
        "            n_major = i\n",
        "            inst+=1\n",
        "        elif i > n_major_2:\n",
        "            inst+=1\n",
        "            n_major_2=i\n",
        "            inst+=1\n",
        "            inst+=1\n",
        "    max_product = n_major_2 * n_major\n",
        "    inst+=1\n",
        "\n",
        "    return max_product\n",
        "\n",
        "if __name__ == \"__main__\":\n",
        "    n = int(input())\n",
        "    inst+=1\n",
        "    lista = list(map(int, input().split()))\n",
        "    inst+=4*n\n",
        "    print(max_pairwise_product(lista))\n",
        "    inst+=1\n",
        "    print(f\"Numero Total de Instrucciones:  {inst}\")"
      ]
    },
    {
      "cell_type": "code",
      "execution_count": 121,
      "metadata": {
        "id": "kx-SW1CqpNqf",
        "colab": {
          "base_uri": "https://localhost:8080/"
        },
        "outputId": "449dd465-b28f-448a-e444-7b93081492ac"
      },
      "outputs": [
        {
          "output_type": "stream",
          "name": "stdout",
          "text": [
            "90\n",
            "Numero Total de Instrucciones:  86\n",
            "90\n",
            "Numero Total de Instrucciones:  62\n",
            "40000000000\n",
            "Numero Total de Instrucciones:  51\n"
          ]
        }
      ],
      "source": [
        "!python max_pairwise_product_efficient_and_instructions.py < input1.txt\n",
        "!python max_pairwise_product_efficient_and_instructions.py < input2.txt\n",
        "!python max_pairwise_product_efficient_and_instructions.py < input3.txt"
      ]
    },
    {
      "cell_type": "markdown",
      "metadata": {
        "id": "K6ybgCmpNygr"
      },
      "source": [
        "Calculate estimated time by instruction and number of instructions by second"
      ]
    },
    {
      "cell_type": "code",
      "execution_count": 122,
      "metadata": {
        "id": "kwe3G1O3Nz1w",
        "colab": {
          "base_uri": "https://localhost:8080/"
        },
        "outputId": "bd3f61c7-eb01-4cdb-e67a-9e98cb5ca2f6"
      },
      "outputs": [
        {
          "output_type": "stream",
          "name": "stdout",
          "text": [
            "Writing max_pairwise_product_long_efficient_and_instructions_by_second.cpp\n"
          ]
        }
      ],
      "source": [
        "%%writefile max_pairwise_product_long_efficient_and_instructions_by_second.cpp\n",
        "#include <iostream>\n",
        "#include <vector>\n",
        "#include <algorithm>\n",
        "#include <chrono>\n",
        "\n",
        "long long inst= 0LL;\n",
        "\n",
        "long long MaxPairwiseProduct(const std::vector<int>& numbers) {\n",
        "    long long max_product = 0LL;                                             //1\n",
        "    inst++;\n",
        "\t  long long n_major = 0LL;\n",
        "    inst++;\n",
        "    long long n_major_2 = 0LL;                                             //1\n",
        "    inst++;\n",
        "    int n = numbers.size();                                                  //1\n",
        "    inst++;\n",
        "    inst++;\n",
        "    for(int i = 0; i < n; ++i) {                   //1 + 2n\n",
        "      inst+=2;\n",
        "      inst++;\n",
        "      if (numbers[i] > n_major){\n",
        "        inst++;\n",
        "        n_major_2 = n_major ;                //n\n",
        "        inst++;\n",
        "        n_major = numbers[i];\n",
        "        inst++;\n",
        "      }\n",
        "      else if (numbers[i] > n_major_2){\n",
        "        inst++;\n",
        "        n_major_2 = numbers[i];                    //[0, n]\n",
        "        inst++;\n",
        "        inst++;\n",
        "      }\n",
        "    }\n",
        "    max_product=n_major*n_major_2;\n",
        "    inst++;                                                                         // --------------\n",
        "    return max_product;\n",
        "}\n",
        "\n",
        "int main() {\n",
        "    auto start_time = std::chrono::high_resolution_clock::now();\n",
        "    int n;                                                //1\n",
        "    inst++;\n",
        "    std::cin >> n;                                        //1\n",
        "    inst++;\n",
        "    std::vector<int> numbers(n);                          //n\n",
        "    inst++;\n",
        "    inst++;\n",
        "    for (int i = 0; i < n; ++i) {                         //1 + 2n\n",
        "        std::cin >> numbers[i];                           //n\n",
        "    }\n",
        "    inst+=n;\n",
        "\n",
        "    std::cout << MaxPairwiseProduct(numbers) << \"\\n\";\n",
        "    inst++;\n",
        "    auto end_time = std::chrono::high_resolution_clock::now();\n",
        "    auto duration = std::chrono::duration_cast<std::chrono::milliseconds>(end_time - start_time);\n",
        "    float duration_sec,duration_f;\n",
        "    duration_f=static_cast<float>(duration.count());\n",
        "    duration_sec = duration_f/1000;\n",
        "    std::cout <<\"Numero de instrucciones: \"<< inst << \"\\n\";\n",
        "    std::cout <<\"Duracion Estiamda: \"<< duration_sec << \" segundos\" <<\"\\n\";\n",
        "    std::cout <<\"Duracion Estiamda por instruccion: \"<< duration_sec/inst << \" segundos\" <<\"\\n\";\n",
        "    std::cout <<\"Numero de instrucciones por segundo: \"<< 1/(duration_sec/inst) << \" Instrucciones\" <<\"\\n\";\n",
        "    return 0;\n",
        "}"
      ]
    },
    {
      "cell_type": "code",
      "execution_count": 123,
      "metadata": {
        "id": "IQS_kwYBpQeR"
      },
      "outputs": [],
      "source": [
        "!g++ max_pairwise_product_long_efficient_and_instructions_by_second.cpp -o max_pairwise_product_long_efficient_and_instructions_by_second"
      ]
    },
    {
      "cell_type": "code",
      "execution_count": 124,
      "metadata": {
        "id": "h58sux3EpSzJ",
        "colab": {
          "base_uri": "https://localhost:8080/"
        },
        "outputId": "e9b8d3c0-8cb5-44f3-8e91-1a54c6fe8948"
      },
      "outputs": [
        {
          "output_type": "stream",
          "name": "stdout",
          "text": [
            "120989000\n",
            "Numero de instrucciones: 77011\n",
            "Duracion Estiamda: 0.003 segundos\n",
            "Duracion Estiamda por instruccion: 3.89555e-08 segundos\n",
            "Numero de instrucciones por segundo: 2.56703e+07 Instrucciones\n"
          ]
        }
      ],
      "source": [
        "!./max_pairwise_product_long_efficient_and_instructions_by_second < input13.txt"
      ]
    },
    {
      "cell_type": "markdown",
      "metadata": {
        "id": "v8GY6n_ZaJ4P"
      },
      "source": [
        "### Estimate and verify the maximun n that can be solved in 1 second"
      ]
    },
    {
      "cell_type": "code",
      "execution_count": 125,
      "metadata": {
        "id": "fKVc46jvpT6B",
        "colab": {
          "base_uri": "https://localhost:8080/"
        },
        "outputId": "689ba48e-c31d-4aaf-9c7b-aeff87865802"
      },
      "outputs": [
        {
          "output_type": "stream",
          "name": "stdout",
          "text": [
            "Writing max_pairwise_product_efficient_and_instructions_by_second.py\n"
          ]
        }
      ],
      "source": [
        "%%writefile max_pairwise_product_efficient_and_instructions_by_second.py\n",
        "#Python3\n",
        "import time\n",
        "\n",
        "inst=0\n",
        "def max_pairwise_product(lista):\n",
        "    global inst\n",
        "    n_major = 0\n",
        "    inst+=1\n",
        "    n_major_2 = 0\n",
        "    inst+=1\n",
        "    max_product = 0\n",
        "    inst+=1\n",
        "    for i in lista:\n",
        "        inst+=1\n",
        "        if i > n_major:\n",
        "            inst+=1\n",
        "            n_major_2=n_major\n",
        "            inst+=1\n",
        "            n_major = i\n",
        "            inst+=1\n",
        "        elif i > n_major_2:\n",
        "            inst+=1\n",
        "            n_major_2=i\n",
        "            inst+=1\n",
        "            inst+=1\n",
        "    max_product = n_major_2 * n_major\n",
        "    inst+=1\n",
        "\n",
        "    return max_product\n",
        "\n",
        "if __name__ == \"__main__\":\n",
        "    inicio=time.time()\n",
        "    n = int(input())\n",
        "    inst+=1\n",
        "    lista = list(map(int, input().split()))\n",
        "    inst+=4*n\n",
        "    print(max_pairwise_product(lista))\n",
        "    inst+=1\n",
        "    fin = time.time()\n",
        "    tiempo_total = fin - inicio\n",
        "    instructionTime = tiempo_total/inst\n",
        "    instructionBySecond= 1/instructionTime\n",
        "    print(f\"Numero Total de Instrucciones:  {inst}\")\n",
        "    print(f\"Tiempo total de ejecución: {tiempo_total} segundos\")\n",
        "    print(f\"Tiempo estimado de cada instruccion: {instructionTime} segundos\")\n",
        "    print(f\"Instrucciones por segundo: {int(instructionBySecond)} \")\n"
      ]
    },
    {
      "cell_type": "code",
      "execution_count": 126,
      "metadata": {
        "id": "z3xjzg1YaKk6"
      },
      "outputs": [],
      "source": [
        "!g++ max_pairwise_product_long_efficient_and_instructions_by_second.cpp -o max_pairwise_product_long_efficient_and_instructions_by_second"
      ]
    },
    {
      "cell_type": "code",
      "execution_count": 127,
      "metadata": {
        "id": "IOuSxf6gpbTi",
        "colab": {
          "base_uri": "https://localhost:8080/"
        },
        "outputId": "6df146da-f656-4cdb-b5b4-77dfcb6dc0da"
      },
      "outputs": [
        {
          "output_type": "stream",
          "name": "stdout",
          "text": [
            "120989000\n",
            "Numero de instrucciones: 77011\n",
            "Duracion Estiamda: 0.003 segundos\n",
            "Duracion Estiamda por instruccion: 3.89555e-08 segundos\n",
            "Numero de instrucciones por segundo: 2.56703e+07 Instrucciones\n"
          ]
        }
      ],
      "source": [
        "!./max_pairwise_product_long_efficient_and_instructions_by_second < input13.txt"
      ]
    },
    {
      "cell_type": "markdown",
      "metadata": {
        "id": "sUpIWcykOGpT"
      },
      "source": [
        "## Super efficient solution\n",
        "\n",
        "Whitout storing the list in memory, only stpring the largest and second largest and whitout calling a function, add in each line a coment with the number of instructions that are executed in that line\n",
        "\n",
        "in C++ and Python\n",
        "\n",
        "\n",
        " $$T(n) < 13 n  = O(n)$$\n"
      ]
    },
    {
      "cell_type": "code",
      "execution_count": 128,
      "metadata": {
        "id": "kpNCWzv0_PFG",
        "colab": {
          "base_uri": "https://localhost:8080/"
        },
        "outputId": "f56b2947-9740-41a8-b70e-75fa6a277821"
      },
      "outputs": [
        {
          "output_type": "stream",
          "name": "stdout",
          "text": [
            "Writing max_pairwise_sort_long_super_efficient.cpp\n"
          ]
        }
      ],
      "source": [
        "%%writefile max_pairwise_sort_long_super_efficient.cpp\n",
        "#include <iostream>\n",
        "#include <vector>\n",
        "#include <limits>\n",
        "\n",
        "int main() {\n",
        "    int n;\n",
        "    std::cin >> n;\n",
        "\n",
        "    int max_number = std::numeric_limits<int>::min();\n",
        "    int second_max_number = std::numeric_limits<int>::min();\n",
        "\n",
        "    for (int i = 0; i < n; ++i) {\n",
        "        int num;\n",
        "        std::cin >> num;\n",
        "\n",
        "        if (num > max_number) {\n",
        "            second_max_number = max_number;\n",
        "            max_number = num;\n",
        "        } else if (num > second_max_number) {\n",
        "            second_max_number = num;\n",
        "        }\n",
        "    }\n",
        "\n",
        "    std::cout << \"n: \" << n << \" Product: \" << static_cast<long long>(max_number) * second_max_number << std::endl;\n",
        "\n",
        "    return 0;\n",
        "}"
      ]
    },
    {
      "cell_type": "code",
      "execution_count": 129,
      "metadata": {
        "id": "beP7mGEABNj3"
      },
      "outputs": [],
      "source": [
        "!g++ max_pairwise_sort_long_super_efficient.cpp -o max_pairwise_sort_long_super_efficient"
      ]
    },
    {
      "cell_type": "code",
      "execution_count": 130,
      "metadata": {
        "id": "hBLt_xBQLy8E",
        "colab": {
          "base_uri": "https://localhost:8080/"
        },
        "outputId": "ac91e98d-163e-4691-e1eb-0ca656e64a33"
      },
      "outputs": [
        {
          "output_type": "stream",
          "name": "stdout",
          "text": [
            "Writing max_pairwise_sort_super_efficient.py\n"
          ]
        }
      ],
      "source": [
        "%%writefile max_pairwise_sort_super_efficient.py\n",
        "n = int(input())                            # 1\n",
        "max_number = float(\"-inf\")                  # 1\n",
        "second_max_number = float(\"-inf\")           # 1\n",
        "\n",
        "for num in input().split():                 # 3 + 2n\n",
        "\n",
        "    num = int(num)                          # n\n",
        "\n",
        "    if num > max_number:                    # n\n",
        "        second_max_number = max_number      # [0, n] in the worst case it would be n times\n",
        "        max_number = num                    # [0, n] in the worst case it would be n times\n",
        "    elif num > second_max_number:           # n\n",
        "        second_max_number = num             # [0, n] in the worst case it would be n times\n",
        "\n",
        "print(f\"n: {n} Product: {max_number * second_max_number}\")"
      ]
    },
    {
      "cell_type": "markdown",
      "metadata": {
        "id": "683gc3roHqzb"
      },
      "source": [
        "Test with inputs 1 and 2\n",
        "\n",
        "\n"
      ]
    },
    {
      "cell_type": "code",
      "execution_count": 131,
      "metadata": {
        "id": "VVyyrgYr_tFO",
        "colab": {
          "base_uri": "https://localhost:8080/"
        },
        "outputId": "c712e56b-6590-46f7-d06c-567d8f1152f1"
      },
      "outputs": [
        {
          "output_type": "stream",
          "name": "stdout",
          "text": [
            "n: 10 Product: 90\n",
            "n: 10 Product: 90\n"
          ]
        }
      ],
      "source": [
        "!./max_pairwise_sort_long_super_efficient < input1.txt\n",
        "!./max_pairwise_sort_long_super_efficient < input2.txt"
      ]
    },
    {
      "cell_type": "code",
      "execution_count": 132,
      "metadata": {
        "id": "b7d4LA8OIc2_",
        "colab": {
          "base_uri": "https://localhost:8080/"
        },
        "outputId": "0a69c557-ce29-4933-e10c-2ce60948119b"
      },
      "outputs": [
        {
          "output_type": "stream",
          "name": "stdout",
          "text": [
            "n: 10 Product: 90\n",
            "n: 10 Product: 90\n"
          ]
        }
      ],
      "source": [
        "!python max_pairwise_sort_super_efficient.py < input1.txt\n",
        "!python max_pairwise_sort_super_efficient.py < input2.txt"
      ]
    },
    {
      "cell_type": "markdown",
      "metadata": {
        "id": "36Ugn1odIeJz"
      },
      "source": [
        "Test and time it with input 3"
      ]
    },
    {
      "cell_type": "code",
      "execution_count": 133,
      "metadata": {
        "id": "tz8upeWIBayW",
        "colab": {
          "base_uri": "https://localhost:8080/"
        },
        "outputId": "1631c043-95d9-40b5-8426-816970e2dba0"
      },
      "outputs": [
        {
          "output_type": "stream",
          "name": "stdout",
          "text": [
            "n: 6 Product: 40000000000\n",
            "CPU times: user 4.24 ms, sys: 1.06 ms, total: 5.3 ms\n",
            "Wall time: 108 ms\n"
          ]
        }
      ],
      "source": [
        "%%time\n",
        "!./max_pairwise_sort_long_super_efficient < input3.txt"
      ]
    },
    {
      "cell_type": "code",
      "execution_count": 134,
      "metadata": {
        "id": "jDyMbCnxHqSN",
        "colab": {
          "base_uri": "https://localhost:8080/"
        },
        "outputId": "522de8b6-25a7-47e4-bf01-a8a1bb5689fc"
      },
      "outputs": [
        {
          "output_type": "stream",
          "name": "stdout",
          "text": [
            "n: 6 Product: 40000000000\n",
            "CPU times: user 6.27 ms, sys: 0 ns, total: 6.27 ms\n",
            "Wall time: 105 ms\n"
          ]
        }
      ],
      "source": [
        "%%time\n",
        "!python  max_pairwise_sort_super_efficient.py < input3.txt"
      ]
    },
    {
      "cell_type": "markdown",
      "metadata": {
        "id": "bhqiKQG6fjKM"
      },
      "source": [
        "20 stress tests"
      ]
    },
    {
      "cell_type": "code",
      "execution_count": 135,
      "metadata": {
        "id": "2KsiXKhALzwm",
        "colab": {
          "base_uri": "https://localhost:8080/"
        },
        "outputId": "7dfd0508-2118-43c2-acaf-948e1a691ae0"
      },
      "outputs": [
        {
          "output_type": "stream",
          "name": "stdout",
          "text": [
            "Writing max_pairwise_sort_super_efficient_stress_test.py\n"
          ]
        }
      ],
      "source": [
        "%%writefile max_pairwise_sort_super_efficient_stress_test.py\n",
        "n = int(input())                            # 1\n",
        "max_number = float(\"-inf\")                  # 1\n",
        "second_max_number = float(\"-inf\")           # 1\n",
        "\n",
        "for num in input().split():                 # 3 + 2n\n",
        "\n",
        "    num = int(num)                          # n\n",
        "\n",
        "    if num > max_number:                    # n\n",
        "        second_max_number = max_number      # [0, n] in the worst case it would be n times\n",
        "        max_number = num                    # [0, n] in the worst case it would be n times\n",
        "    elif num > second_max_number:           # n\n",
        "        second_max_number = num             # [0, n] in the worst case it would be n times\n",
        "\n",
        "print(f\"n: {n} Product: {max_number * second_max_number}\")\n",
        "\n",
        "def stress_test(num_tests, max_n, max_value):\n",
        "    for i in range(num_tests):\n",
        "        n = random.randint(2, max_n)\n",
        "        nums = [random.randint(1, max_value) for _ in range(n)]\n",
        "        start_time = time.time()\n",
        "        product = max_pairwise_product(nums)\n",
        "        end_time = time.time()\n",
        "        print(f\"Test {i+1}: n = {n}, Product = {product}, Time = {end_time - start_time:.6f} seconds\")\n",
        "\n",
        "if __name__ == \"__main__\":\n",
        "    num_tests = 20\n",
        "    max_n = 10**5\n",
        "    max_value = 10**9\n",
        "    stress_test(num_tests, max_n, max_value)"
      ]
    },
    {
      "cell_type": "code",
      "execution_count": 136,
      "metadata": {
        "id": "isa4nQaQBwpY",
        "colab": {
          "base_uri": "https://localhost:8080/"
        },
        "outputId": "88a77b49-7e59-42ae-d5ec-24d0afd2bebf"
      },
      "outputs": [
        {
          "output_type": "stream",
          "name": "stdout",
          "text": [
            "Traceback (most recent call last):\n",
            "  File \"/content/max_pairwise_sort_super_efficient_stress_test.py\", line 1, in <module>\n",
            "    n = int(input())                            # 1\n",
            "KeyboardInterrupt\n",
            "^C\n"
          ]
        }
      ],
      "source": [
        "!python  max_pairwise_sort_super_efficient_stress_test.py"
      ]
    },
    {
      "cell_type": "markdown",
      "source": [
        "Se detiene por que tomó mucho tiempo (más de 25 minutos)"
      ],
      "metadata": {
        "id": "AqL3HKLK-s1c"
      }
    },
    {
      "cell_type": "markdown",
      "metadata": {
        "id": "fEXj8GHJH5p1"
      },
      "source": [
        "Count executed instructions in code and verify with inputs 1,2 and 3"
      ]
    },
    {
      "cell_type": "code",
      "execution_count": 137,
      "metadata": {
        "id": "LF1DHjKXIAsF",
        "colab": {
          "base_uri": "https://localhost:8080/"
        },
        "outputId": "423c7441-fbe9-48b8-d15e-4811f3382195"
      },
      "outputs": [
        {
          "output_type": "stream",
          "name": "stdout",
          "text": [
            "Writing max_pairwise_sort_super_efficient_instructions.py\n"
          ]
        }
      ],
      "source": [
        "%%writefile max_pairwise_sort_super_efficient_instructions.py\n",
        "instruction_count = 0\n",
        "\n",
        "n = int(input())                            # 1\n",
        "instruction_count += 1\n",
        "max_number = float(\"-inf\")                  # 1\n",
        "instruction_count += 1\n",
        "second_max_number = float(\"-inf\")           # 1\n",
        "instruction_count += 1\n",
        "\n",
        "# Iterating over range of n\n",
        "\n",
        "for num in input().split():                 # 3 + 2n\n",
        "    instruction_count += 1\n",
        "    num = int(num)\n",
        "    instruction_count += 1\n",
        "\n",
        "    if num > max_number:                    # n\n",
        "        instruction_count += 1\n",
        "        second_max_number = max_number      # [0, n] in the worst case it would be n times\n",
        "        instruction_count += 1\n",
        "        max_number = num                    # [0, n] in the worst case it would be n times\n",
        "        instruction_count += 1\n",
        "    elif num > second_max_number:           # n\n",
        "        instruction_count += 1\n",
        "        second_max_number = num             # [0, n] in the worst case it would be n times\n",
        "        instruction_count += 1\n",
        "\n",
        "print(f\"n: {n} Product: {max_number * second_max_number}\")\n",
        "instruction_count += 1\n",
        "\n",
        "print(\"Total instructions executed:\", instruction_count)"
      ]
    },
    {
      "cell_type": "code",
      "execution_count": 138,
      "metadata": {
        "id": "ME5W8gi689KY",
        "colab": {
          "base_uri": "https://localhost:8080/"
        },
        "outputId": "791cebdd-b807-4e04-d342-cb73e0a2d5e8"
      },
      "outputs": [
        {
          "output_type": "stream",
          "name": "stdout",
          "text": [
            "n: 10 Product: 90\n",
            "Total instructions executed: 54\n",
            "n: 10 Product: 90\n",
            "Total instructions executed: 29\n",
            "n: 6 Product: 40000000000\n",
            "Total instructions executed: 29\n"
          ]
        }
      ],
      "source": [
        "!python max_pairwise_sort_super_efficient_instructions.py < input1.txt\n",
        "!python max_pairwise_sort_super_efficient_instructions.py < input2.txt\n",
        "!python max_pairwise_sort_super_efficient_instructions.py < input3.txt"
      ]
    },
    {
      "cell_type": "markdown",
      "metadata": {
        "id": "yae7sSm2IG9U"
      },
      "source": [
        "Calculate estimated time by instruction and number of instructions by second"
      ]
    },
    {
      "cell_type": "code",
      "execution_count": 139,
      "metadata": {
        "id": "suouY7BYL2dz",
        "colab": {
          "base_uri": "https://localhost:8080/"
        },
        "outputId": "a9bbe446-92e3-476a-8171-d1cb24f6df2d"
      },
      "outputs": [
        {
          "output_type": "stream",
          "name": "stdout",
          "text": [
            "Writing max_pairwise_sort_super_efficient_time.py\n"
          ]
        }
      ],
      "source": [
        "%%writefile max_pairwise_sort_super_efficient_time.py\n",
        "import time\n",
        "\n",
        "start_time = time.time()\n",
        "\n",
        "instruction_count = 0\n",
        "\n",
        "n = int(input())                            # 1\n",
        "instruction_count += 1\n",
        "max_number = float(\"-inf\")                  # 1\n",
        "instruction_count += 1\n",
        "second_max_number = float(\"-inf\")           # 1\n",
        "instruction_count += 1\n",
        "\n",
        "# Iterating over range of n\n",
        "\n",
        "for num in input().split():                 # 3 + 2n\n",
        "    instruction_count += 1\n",
        "    num = int(num)\n",
        "    instruction_count += 1\n",
        "\n",
        "    if num > max_number:                    # n\n",
        "        instruction_count += 1\n",
        "        second_max_number = max_number      # [0, n] in the worst case it would be n times\n",
        "        instruction_count += 1\n",
        "        max_number = num                    # [0, n] in the worst case it would be n times\n",
        "        instruction_count += 1\n",
        "    elif num > second_max_number:           # n\n",
        "        instruction_count += 1\n",
        "        second_max_number = num             # [0, n] in the worst case it would be n times\n",
        "        instruction_count += 1\n",
        "\n",
        "print(f\"n: {n} Product: {max_number * second_max_number}\")\n",
        "instruction_count += 1\n",
        "\n",
        "end_time = time.time()\n",
        "total_time = end_time - start_time\n",
        "\n",
        "# Calcular el tiempo estimado por instrucción\n",
        "time_per_instruction = total_time / instruction_count\n",
        "\n",
        "# Calcular el número de instrucciones por segundo\n",
        "instructions_per_second = instruction_count / total_time\n",
        "\n",
        "print(\"Tiempo estimado por instrucción:\", time_per_instruction, \"segundos\")\n",
        "print(\"Instrucciones por segundo:\", instructions_per_second)"
      ]
    },
    {
      "cell_type": "code",
      "execution_count": 140,
      "metadata": {
        "id": "zsv4nVsT-xiP",
        "colab": {
          "base_uri": "https://localhost:8080/"
        },
        "outputId": "9a708e6e-5c06-48ee-9990-c5ed886977f2"
      },
      "outputs": [
        {
          "output_type": "stream",
          "name": "stdout",
          "text": [
            "n: 10 Product: 90\n",
            "Tiempo estimado por instrucción: 1.8102151376229745e-06 segundos\n",
            "Instrucciones por segundo: 552420.5268292683\n",
            "n: 10 Product: 90\n",
            "Tiempo estimado por instrucción: 3.0007855645541487e-06 segundos\n",
            "Instrucciones por segundo: 333246.07123287674\n",
            "n: 6 Product: 40000000000\n",
            "Tiempo estimado por instrucción: 3.1323268495757003e-06 segundos\n",
            "Instrucciones por segundo: 319251.48556430446\n",
            "CPU times: user 15.3 ms, sys: 5.97 ms, total: 21.3 ms\n",
            "Wall time: 321 ms\n"
          ]
        }
      ],
      "source": [
        "%%time\n",
        "!python max_pairwise_sort_super_efficient_time.py < input1.txt\n",
        "!python max_pairwise_sort_super_efficient_time.py < input2.txt\n",
        "!python max_pairwise_sort_super_efficient_time.py < input3.txt"
      ]
    },
    {
      "cell_type": "markdown",
      "metadata": {
        "id": "-nPDWDYcNkts"
      },
      "source": [
        "**Sort solution (𝑇(𝑛)=𝑂(𝑛𝑙𝑛𝑔))**"
      ]
    },
    {
      "cell_type": "code",
      "execution_count": 141,
      "metadata": {
        "id": "htI-Y-RjNkEZ",
        "colab": {
          "base_uri": "https://localhost:8080/"
        },
        "outputId": "15d1d245-2584-4b08-a48c-3f51f7aeca55"
      },
      "outputs": [
        {
          "output_type": "stream",
          "name": "stdout",
          "text": [
            "Writing max_pairwise_sort_nlogn.py\n"
          ]
        }
      ],
      "source": [
        "%%writefile max_pairwise_sort_nlogn.py\n",
        "# Read input values\n",
        "n = int(input())              # 1\n",
        "numbers = list(map(int, input().split()))  # n\n",
        "\n",
        "# Sort the list\n",
        "numbers.sort()                # n*log(n)\n",
        "\n",
        "# Calculate the maximum pairwise product\n",
        "result = numbers[-1] * numbers[-2]  # 1\n",
        "\n",
        "# Print the result\n",
        "print(f\"n: {n} Product: {result}\")"
      ]
    },
    {
      "cell_type": "code",
      "execution_count": 142,
      "metadata": {
        "id": "N5pp5cF0NvoK",
        "colab": {
          "base_uri": "https://localhost:8080/"
        },
        "outputId": "7c74498c-a99b-4633-ec07-b8f68d20064d"
      },
      "outputs": [
        {
          "output_type": "stream",
          "name": "stdout",
          "text": [
            "/bin/bash: line 1: stress_input_1.txt: No such file or directory\n",
            "/bin/bash: line 1: stress_input_2.txt: No such file or directory\n",
            "/bin/bash: line 1: stress_input_3.txt: No such file or directory\n",
            "/bin/bash: line 1: stress_input_4.txt: No such file or directory\n",
            "/bin/bash: line 1: stress_input_5.txt: No such file or directory\n",
            "/bin/bash: line 1: stress_input_6.txt: No such file or directory\n",
            "/bin/bash: line 1: stress_input_7.txt: No such file or directory\n",
            "/bin/bash: line 1: stress_input_8.txt: No such file or directory\n",
            "/bin/bash: line 1: stress_input_9.txt: No such file or directory\n",
            "/bin/bash: line 1: stress_input_10.txt: No such file or directory\n",
            "/bin/bash: line 1: stress_input_11.txt: No such file or directory\n",
            "/bin/bash: line 1: stress_input_12.txt: No such file or directory\n",
            "/bin/bash: line 1: stress_input_13.txt: No such file or directory\n",
            "/bin/bash: line 1: stress_input_14.txt: No such file or directory\n",
            "/bin/bash: line 1: stress_input_15.txt: No such file or directory\n",
            "/bin/bash: line 1: stress_input_16.txt: No such file or directory\n",
            "/bin/bash: line 1: stress_input_17.txt: No such file or directory\n",
            "/bin/bash: line 1: stress_input_18.txt: No such file or directory\n",
            "/bin/bash: line 1: stress_input_19.txt: No such file or directory\n",
            "/bin/bash: line 1: stress_input_20.txt: No such file or directory\n",
            "/bin/bash: line 1: stress_input_21.txt: No such file or directory\n",
            "/bin/bash: line 1: stress_input_22.txt: No such file or directory\n",
            "/bin/bash: line 1: stress_input_23.txt: No such file or directory\n",
            "/bin/bash: line 1: stress_input_24.txt: No such file or directory\n",
            "/bin/bash: line 1: stress_input_25.txt: No such file or directory\n",
            "/bin/bash: line 1: stress_input_26.txt: No such file or directory\n",
            "/bin/bash: line 1: stress_input_27.txt: No such file or directory\n",
            "/bin/bash: line 1: stress_input_28.txt: No such file or directory\n",
            "/bin/bash: line 1: stress_input_29.txt: No such file or directory\n",
            "/bin/bash: line 1: stress_input_30.txt: No such file or directory\n",
            "/bin/bash: line 1: stress_input_31.txt: No such file or directory\n",
            "/bin/bash: line 1: stress_input_32.txt: No such file or directory\n",
            "/bin/bash: line 1: stress_input_33.txt: No such file or directory\n",
            "/bin/bash: line 1: stress_input_34.txt: No such file or directory\n",
            "/bin/bash: line 1: stress_input_35.txt: No such file or directory\n",
            "/bin/bash: line 1: stress_input_36.txt: No such file or directory\n",
            "/bin/bash: line 1: stress_input_37.txt: No such file or directory\n",
            "/bin/bash: line 1: stress_input_38.txt: No such file or directory\n",
            "/bin/bash: line 1: stress_input_39.txt: No such file or directory\n",
            "/bin/bash: line 1: stress_input_40.txt: No such file or directory\n",
            "/bin/bash: line 1: stress_input_41.txt: No such file or directory\n",
            "/bin/bash: line 1: stress_input_42.txt: No such file or directory\n",
            "/bin/bash: line 1: stress_input_43.txt: No such file or directory\n",
            "/bin/bash: line 1: stress_input_44.txt: No such file or directory\n",
            "/bin/bash: line 1: stress_input_45.txt: No such file or directory\n",
            "/bin/bash: line 1: stress_input_46.txt: No such file or directory\n",
            "/bin/bash: line 1: stress_input_47.txt: No such file or directory\n",
            "/bin/bash: line 1: stress_input_48.txt: No such file or directory\n",
            "/bin/bash: line 1: stress_input_49.txt: No such file or directory\n",
            "/bin/bash: line 1: stress_input_50.txt: No such file or directory\n",
            "/bin/bash: line 1: stress_input_51.txt: No such file or directory\n",
            "/bin/bash: line 1: stress_input_52.txt: No such file or directory\n",
            "/bin/bash: line 1: stress_input_53.txt: No such file or directory\n",
            "/bin/bash: line 1: stress_input_54.txt: No such file or directory\n",
            "/bin/bash: line 1: stress_input_55.txt: No such file or directory\n",
            "/bin/bash: line 1: stress_input_56.txt: No such file or directory\n",
            "/bin/bash: line 1: stress_input_57.txt: No such file or directory\n",
            "/bin/bash: line 1: stress_input_58.txt: No such file or directory\n",
            "/bin/bash: line 1: stress_input_59.txt: No such file or directory\n",
            "/bin/bash: line 1: stress_input_60.txt: No such file or directory\n",
            "/bin/bash: line 1: stress_input_61.txt: No such file or directory\n",
            "/bin/bash: line 1: stress_input_62.txt: No such file or directory\n",
            "/bin/bash: line 1: stress_input_63.txt: No such file or directory\n",
            "/bin/bash: line 1: stress_input_64.txt: No such file or directory\n",
            "/bin/bash: line 1: stress_input_65.txt: No such file or directory\n",
            "/bin/bash: line 1: stress_input_66.txt: No such file or directory\n",
            "/bin/bash: line 1: stress_input_67.txt: No such file or directory\n",
            "/bin/bash: line 1: stress_input_68.txt: No such file or directory\n",
            "/bin/bash: line 1: stress_input_69.txt: No such file or directory\n",
            "/bin/bash: line 1: stress_input_70.txt: No such file or directory\n",
            "/bin/bash: line 1: stress_input_71.txt: No such file or directory\n",
            "/bin/bash: line 1: stress_input_72.txt: No such file or directory\n",
            "/bin/bash: line 1: stress_input_73.txt: No such file or directory\n",
            "/bin/bash: line 1: stress_input_74.txt: No such file or directory\n",
            "/bin/bash: line 1: stress_input_75.txt: No such file or directory\n",
            "/bin/bash: line 1: stress_input_76.txt: No such file or directory\n",
            "/bin/bash: line 1: stress_input_77.txt: No such file or directory\n",
            "/bin/bash: line 1: stress_input_78.txt: No such file or directory\n",
            "/bin/bash: line 1: stress_input_79.txt: No such file or directory\n",
            "/bin/bash: line 1: stress_input_80.txt: No such file or directory\n",
            "/bin/bash: line 1: stress_input_81.txt: No such file or directory\n",
            "/bin/bash: line 1: stress_input_82.txt: No such file or directory\n",
            "/bin/bash: line 1: stress_input_83.txt: No such file or directory\n",
            "/bin/bash: line 1: stress_input_84.txt: No such file or directory\n",
            "/bin/bash: line 1: stress_input_85.txt: No such file or directory\n",
            "/bin/bash: line 1: stress_input_86.txt: No such file or directory\n",
            "/bin/bash: line 1: stress_input_87.txt: No such file or directory\n",
            "/bin/bash: line 1: stress_input_88.txt: No such file or directory\n",
            "/bin/bash: line 1: stress_input_89.txt: No such file or directory\n",
            "/bin/bash: line 1: stress_input_90.txt: No such file or directory\n",
            "/bin/bash: line 1: stress_input_91.txt: No such file or directory\n",
            "/bin/bash: line 1: stress_input_92.txt: No such file or directory\n",
            "/bin/bash: line 1: stress_input_93.txt: No such file or directory\n",
            "/bin/bash: line 1: stress_input_94.txt: No such file or directory\n",
            "/bin/bash: line 1: stress_input_95.txt: No such file or directory\n",
            "/bin/bash: line 1: stress_input_96.txt: No such file or directory\n",
            "/bin/bash: line 1: stress_input_97.txt: No such file or directory\n",
            "/bin/bash: line 1: stress_input_98.txt: No such file or directory\n",
            "/bin/bash: line 1: stress_input_99.txt: No such file or directory\n",
            "/bin/bash: line 1: stress_input_100.txt: No such file or directory\n",
            "CPU times: user 527 ms, sys: 96.6 ms, total: 623 ms\n",
            "Wall time: 10.8 s\n"
          ]
        }
      ],
      "source": [
        "%%time\n",
        "!python max_pairwise_sort_nlogn.py < stress_input_1.txt\n",
        "!python max_pairwise_sort_nlogn.py < stress_input_2.txt\n",
        "!python max_pairwise_sort_nlogn.py < stress_input_3.txt\n",
        "!python max_pairwise_sort_nlogn.py < stress_input_4.txt\n",
        "!python max_pairwise_sort_nlogn.py < stress_input_5.txt\n",
        "!python max_pairwise_sort_nlogn.py < stress_input_6.txt\n",
        "!python max_pairwise_sort_nlogn.py < stress_input_7.txt\n",
        "!python max_pairwise_sort_nlogn.py < stress_input_8.txt\n",
        "!python max_pairwise_sort_nlogn.py < stress_input_9.txt\n",
        "!python max_pairwise_sort_nlogn.py < stress_input_10.txt\n",
        "\n",
        "!python max_pairwise_sort_nlogn.py < stress_input_11.txt\n",
        "!python max_pairwise_sort_nlogn.py < stress_input_12.txt\n",
        "!python max_pairwise_sort_nlogn.py < stress_input_13.txt\n",
        "!python max_pairwise_sort_nlogn.py < stress_input_14.txt\n",
        "!python max_pairwise_sort_nlogn.py < stress_input_15.txt\n",
        "!python max_pairwise_sort_nlogn.py < stress_input_16.txt\n",
        "!python max_pairwise_sort_nlogn.py < stress_input_17.txt\n",
        "!python max_pairwise_sort_nlogn.py < stress_input_18.txt\n",
        "!python max_pairwise_sort_nlogn.py < stress_input_19.txt\n",
        "!python max_pairwise_sort_nlogn.py < stress_input_20.txt\n",
        "\n",
        "!python max_pairwise_sort_nlogn.py < stress_input_21.txt\n",
        "!python max_pairwise_sort_nlogn.py < stress_input_22.txt\n",
        "!python max_pairwise_sort_nlogn.py < stress_input_23.txt\n",
        "!python max_pairwise_sort_nlogn.py < stress_input_24.txt\n",
        "!python max_pairwise_sort_nlogn.py < stress_input_25.txt\n",
        "!python max_pairwise_sort_nlogn.py < stress_input_26.txt\n",
        "!python max_pairwise_sort_nlogn.py < stress_input_27.txt\n",
        "!python max_pairwise_sort_nlogn.py < stress_input_28.txt\n",
        "!python max_pairwise_sort_nlogn.py < stress_input_29.txt\n",
        "!python max_pairwise_sort_nlogn.py < stress_input_30.txt\n",
        "\n",
        "!python max_pairwise_sort_nlogn.py < stress_input_31.txt\n",
        "!python max_pairwise_sort_nlogn.py < stress_input_32.txt\n",
        "!python max_pairwise_sort_nlogn.py < stress_input_33.txt\n",
        "!python max_pairwise_sort_nlogn.py < stress_input_34.txt\n",
        "!python max_pairwise_sort_nlogn.py < stress_input_35.txt\n",
        "!python max_pairwise_sort_nlogn.py < stress_input_36.txt\n",
        "!python max_pairwise_sort_nlogn.py < stress_input_37.txt\n",
        "!python max_pairwise_sort_nlogn.py < stress_input_38.txt\n",
        "!python max_pairwise_sort_nlogn.py < stress_input_39.txt\n",
        "!python max_pairwise_sort_nlogn.py < stress_input_40.txt\n",
        "\n",
        "!python max_pairwise_sort_nlogn.py < stress_input_41.txt\n",
        "!python max_pairwise_sort_nlogn.py < stress_input_42.txt\n",
        "!python max_pairwise_sort_nlogn.py < stress_input_43.txt\n",
        "!python max_pairwise_sort_nlogn.py < stress_input_44.txt\n",
        "!python max_pairwise_sort_nlogn.py < stress_input_45.txt\n",
        "!python max_pairwise_sort_nlogn.py < stress_input_46.txt\n",
        "!python max_pairwise_sort_nlogn.py < stress_input_47.txt\n",
        "!python max_pairwise_sort_nlogn.py < stress_input_48.txt\n",
        "!python max_pairwise_sort_nlogn.py < stress_input_49.txt\n",
        "!python max_pairwise_sort_nlogn.py < stress_input_50.txt\n",
        "\n",
        "!python max_pairwise_sort_nlogn.py < stress_input_51.txt\n",
        "!python max_pairwise_sort_nlogn.py < stress_input_52.txt\n",
        "!python max_pairwise_sort_nlogn.py < stress_input_53.txt\n",
        "!python max_pairwise_sort_nlogn.py < stress_input_54.txt\n",
        "!python max_pairwise_sort_nlogn.py < stress_input_55.txt\n",
        "!python max_pairwise_sort_nlogn.py < stress_input_56.txt\n",
        "!python max_pairwise_sort_nlogn.py < stress_input_57.txt\n",
        "!python max_pairwise_sort_nlogn.py < stress_input_58.txt\n",
        "!python max_pairwise_sort_nlogn.py < stress_input_59.txt\n",
        "!python max_pairwise_sort_nlogn.py < stress_input_60.txt\n",
        "\n",
        "!python max_pairwise_sort_nlogn.py < stress_input_61.txt\n",
        "!python max_pairwise_sort_nlogn.py < stress_input_62.txt\n",
        "!python max_pairwise_sort_nlogn.py < stress_input_63.txt\n",
        "!python max_pairwise_sort_nlogn.py < stress_input_64.txt\n",
        "!python max_pairwise_sort_nlogn.py < stress_input_65.txt\n",
        "!python max_pairwise_sort_nlogn.py < stress_input_66.txt\n",
        "!python max_pairwise_sort_nlogn.py < stress_input_67.txt\n",
        "!python max_pairwise_sort_nlogn.py < stress_input_68.txt\n",
        "!python max_pairwise_sort_nlogn.py < stress_input_69.txt\n",
        "!python max_pairwise_sort_nlogn.py < stress_input_70.txt\n",
        "\n",
        "!python max_pairwise_sort_nlogn.py < stress_input_71.txt\n",
        "!python max_pairwise_sort_nlogn.py < stress_input_72.txt\n",
        "!python max_pairwise_sort_nlogn.py < stress_input_73.txt\n",
        "!python max_pairwise_sort_nlogn.py < stress_input_74.txt\n",
        "!python max_pairwise_sort_nlogn.py < stress_input_75.txt\n",
        "!python max_pairwise_sort_nlogn.py < stress_input_76.txt\n",
        "!python max_pairwise_sort_nlogn.py < stress_input_77.txt\n",
        "!python max_pairwise_sort_nlogn.py < stress_input_78.txt\n",
        "!python max_pairwise_sort_nlogn.py < stress_input_79.txt\n",
        "!python max_pairwise_sort_nlogn.py < stress_input_80.txt\n",
        "\n",
        "!python max_pairwise_sort_nlogn.py < stress_input_81.txt\n",
        "!python max_pairwise_sort_nlogn.py < stress_input_82.txt\n",
        "!python max_pairwise_sort_nlogn.py < stress_input_83.txt\n",
        "!python max_pairwise_sort_nlogn.py < stress_input_84.txt\n",
        "!python max_pairwise_sort_nlogn.py < stress_input_85.txt\n",
        "!python max_pairwise_sort_nlogn.py < stress_input_86.txt\n",
        "!python max_pairwise_sort_nlogn.py < stress_input_87.txt\n",
        "!python max_pairwise_sort_nlogn.py < stress_input_88.txt\n",
        "!python max_pairwise_sort_nlogn.py < stress_input_89.txt\n",
        "!python max_pairwise_sort_nlogn.py < stress_input_90.txt\n",
        "\n",
        "!python max_pairwise_sort_nlogn.py < stress_input_91.txt\n",
        "!python max_pairwise_sort_nlogn.py < stress_input_92.txt\n",
        "!python max_pairwise_sort_nlogn.py < stress_input_93.txt\n",
        "!python max_pairwise_sort_nlogn.py < stress_input_94.txt\n",
        "!python max_pairwise_sort_nlogn.py < stress_input_95.txt\n",
        "!python max_pairwise_sort_nlogn.py < stress_input_96.txt\n",
        "!python max_pairwise_sort_nlogn.py < stress_input_97.txt\n",
        "!python max_pairwise_sort_nlogn.py < stress_input_98.txt\n",
        "!python max_pairwise_sort_nlogn.py < stress_input_99.txt\n",
        "!python max_pairwise_sort_nlogn.py < stress_input_100.txt\n"
      ]
    },
    {
      "cell_type": "markdown",
      "metadata": {
        "id": "4hHRQMXzW6oR"
      },
      "source": [
        "## Perform 100 randomized automated tests in C++ and Python with a porgram  compares the answers,for the same 100 random input instances, of the super efficient solution $(T(n) < 10 n = O(n))$ against the sorting solution  $(T(n)  = O(n \\lg{n}))$,  if the answers are not the same stops and displays \"Error\" listing  the input and the two answers; if the 100 tests are completed without stoping displays \"Pass\"."
      ]
    },
    {
      "cell_type": "markdown",
      "metadata": {
        "id": "jnOtGlRnPLCn"
      },
      "source": [
        "Super efficient solution (𝑇(𝑛)<10𝑛=𝑂(𝑛))"
      ]
    },
    {
      "cell_type": "code",
      "execution_count": 143,
      "metadata": {
        "id": "DvFRyAZxPKLE",
        "colab": {
          "base_uri": "https://localhost:8080/"
        },
        "outputId": "a6e80107-2b8c-4845-bee9-f2ab4af7b730"
      },
      "outputs": [
        {
          "output_type": "stream",
          "name": "stdout",
          "text": [
            "Overwriting max_pairwise_sort_super_efficient.py\n"
          ]
        }
      ],
      "source": [
        "\n",
        "%%writefile max_pairwise_sort_super_efficient.py\n",
        "n = int(input())                            # 1\n",
        "max_number = float(\"-inf\")                  # 1\n",
        "second_max_number = float(\"-inf\")           # 1\n",
        "\n",
        "for num in input().split():                 # 3 + 2n\n",
        "\n",
        "    num = int(num)                          # n\n",
        "\n",
        "    if num > max_number:                    # n\n",
        "        second_max_number = max_number      # [0, n] in the worst case it would be n times\n",
        "        max_number = num                    # [0, n] in the worst case it would be n times\n",
        "    elif num > second_max_number:           # n\n",
        "        second_max_number = num             # [0, n] in the worst case it would be n times\n",
        "\n",
        "print(f\"n: {n} Product: {max_number * second_max_number}\")"
      ]
    },
    {
      "cell_type": "markdown",
      "metadata": {
        "id": "mbidOgp_PHWz"
      },
      "source": [
        "Sortin solution (𝑇(𝑛)=𝑂(𝑛𝑙𝑛𝑔))"
      ]
    },
    {
      "cell_type": "code",
      "execution_count": 144,
      "metadata": {
        "id": "ivE8uyAZO_vw",
        "colab": {
          "base_uri": "https://localhost:8080/"
        },
        "outputId": "b69555c4-1314-439b-dd32-4e9b1e7e313c"
      },
      "outputs": [
        {
          "output_type": "stream",
          "name": "stdout",
          "text": [
            "Overwriting max_pairwise_sort_nlogn.py\n"
          ]
        }
      ],
      "source": [
        "\n",
        "%%writefile max_pairwise_sort_nlogn.py\n",
        "# Read input values\n",
        "n = int(input())              # 1\n",
        "numbers = list(map(int, input().split()))  # n\n",
        "\n",
        "# Sort the list\n",
        "numbers.sort()                # n*log(n)\n",
        "\n",
        "# Calculate the maximum pairwise product\n",
        "result = numbers[-1] * numbers[-2]  # 1\n",
        "\n",
        "# Print the result\n",
        "print(f\"n: {n} Product: {result}\")"
      ]
    },
    {
      "cell_type": "markdown",
      "metadata": {
        "id": "72s3IHqgM0H7"
      },
      "source": [
        "**Resultados**\n"
      ]
    },
    {
      "cell_type": "code",
      "execution_count": 145,
      "metadata": {
        "id": "sRQpUVm1M3vj",
        "colab": {
          "base_uri": "https://localhost:8080/",
          "height": 125
        },
        "outputId": "576d2637-18ac-44d4-8a65-d86c3d2cb10f"
      },
      "outputs": [
        {
          "output_type": "display_data",
          "data": {
            "text/plain": [
              "  Language  Super effienct (ms)  Sort solution (ms)\n",
              "0      C++                  539                 542\n",
              "1   Python                  516                 485"
            ],
            "text/html": [
              "\n",
              "  <div id=\"df-988d6b7d-7927-42be-9854-e21fb9892a8c\" class=\"colab-df-container\">\n",
              "    <div>\n",
              "<style scoped>\n",
              "    .dataframe tbody tr th:only-of-type {\n",
              "        vertical-align: middle;\n",
              "    }\n",
              "\n",
              "    .dataframe tbody tr th {\n",
              "        vertical-align: top;\n",
              "    }\n",
              "\n",
              "    .dataframe thead th {\n",
              "        text-align: right;\n",
              "    }\n",
              "</style>\n",
              "<table border=\"1\" class=\"dataframe\">\n",
              "  <thead>\n",
              "    <tr style=\"text-align: right;\">\n",
              "      <th></th>\n",
              "      <th>Language</th>\n",
              "      <th>Super effienct (ms)</th>\n",
              "      <th>Sort solution (ms)</th>\n",
              "    </tr>\n",
              "  </thead>\n",
              "  <tbody>\n",
              "    <tr>\n",
              "      <th>0</th>\n",
              "      <td>C++</td>\n",
              "      <td>539</td>\n",
              "      <td>542</td>\n",
              "    </tr>\n",
              "    <tr>\n",
              "      <th>1</th>\n",
              "      <td>Python</td>\n",
              "      <td>516</td>\n",
              "      <td>485</td>\n",
              "    </tr>\n",
              "  </tbody>\n",
              "</table>\n",
              "</div>\n",
              "    <div class=\"colab-df-buttons\">\n",
              "\n",
              "  <div class=\"colab-df-container\">\n",
              "    <button class=\"colab-df-convert\" onclick=\"convertToInteractive('df-988d6b7d-7927-42be-9854-e21fb9892a8c')\"\n",
              "            title=\"Convert this dataframe to an interactive table.\"\n",
              "            style=\"display:none;\">\n",
              "\n",
              "  <svg xmlns=\"http://www.w3.org/2000/svg\" height=\"24px\" viewBox=\"0 -960 960 960\">\n",
              "    <path d=\"M120-120v-720h720v720H120Zm60-500h600v-160H180v160Zm220 220h160v-160H400v160Zm0 220h160v-160H400v160ZM180-400h160v-160H180v160Zm440 0h160v-160H620v160ZM180-180h160v-160H180v160Zm440 0h160v-160H620v160Z\"/>\n",
              "  </svg>\n",
              "    </button>\n",
              "\n",
              "  <style>\n",
              "    .colab-df-container {\n",
              "      display:flex;\n",
              "      gap: 12px;\n",
              "    }\n",
              "\n",
              "    .colab-df-convert {\n",
              "      background-color: #E8F0FE;\n",
              "      border: none;\n",
              "      border-radius: 50%;\n",
              "      cursor: pointer;\n",
              "      display: none;\n",
              "      fill: #1967D2;\n",
              "      height: 32px;\n",
              "      padding: 0 0 0 0;\n",
              "      width: 32px;\n",
              "    }\n",
              "\n",
              "    .colab-df-convert:hover {\n",
              "      background-color: #E2EBFA;\n",
              "      box-shadow: 0px 1px 2px rgba(60, 64, 67, 0.3), 0px 1px 3px 1px rgba(60, 64, 67, 0.15);\n",
              "      fill: #174EA6;\n",
              "    }\n",
              "\n",
              "    .colab-df-buttons div {\n",
              "      margin-bottom: 4px;\n",
              "    }\n",
              "\n",
              "    [theme=dark] .colab-df-convert {\n",
              "      background-color: #3B4455;\n",
              "      fill: #D2E3FC;\n",
              "    }\n",
              "\n",
              "    [theme=dark] .colab-df-convert:hover {\n",
              "      background-color: #434B5C;\n",
              "      box-shadow: 0px 1px 3px 1px rgba(0, 0, 0, 0.15);\n",
              "      filter: drop-shadow(0px 1px 2px rgba(0, 0, 0, 0.3));\n",
              "      fill: #FFFFFF;\n",
              "    }\n",
              "  </style>\n",
              "\n",
              "    <script>\n",
              "      const buttonEl =\n",
              "        document.querySelector('#df-988d6b7d-7927-42be-9854-e21fb9892a8c button.colab-df-convert');\n",
              "      buttonEl.style.display =\n",
              "        google.colab.kernel.accessAllowed ? 'block' : 'none';\n",
              "\n",
              "      async function convertToInteractive(key) {\n",
              "        const element = document.querySelector('#df-988d6b7d-7927-42be-9854-e21fb9892a8c');\n",
              "        const dataTable =\n",
              "          await google.colab.kernel.invokeFunction('convertToInteractive',\n",
              "                                                    [key], {});\n",
              "        if (!dataTable) return;\n",
              "\n",
              "        const docLinkHtml = 'Like what you see? Visit the ' +\n",
              "          '<a target=\"_blank\" href=https://colab.research.google.com/notebooks/data_table.ipynb>data table notebook</a>'\n",
              "          + ' to learn more about interactive tables.';\n",
              "        element.innerHTML = '';\n",
              "        dataTable['output_type'] = 'display_data';\n",
              "        await google.colab.output.renderOutput(dataTable, element);\n",
              "        const docLink = document.createElement('div');\n",
              "        docLink.innerHTML = docLinkHtml;\n",
              "        element.appendChild(docLink);\n",
              "      }\n",
              "    </script>\n",
              "  </div>\n",
              "\n",
              "\n",
              "<div id=\"df-2b6a7f06-1ca7-4d78-ac8f-d587d6ae4c38\">\n",
              "  <button class=\"colab-df-quickchart\" onclick=\"quickchart('df-2b6a7f06-1ca7-4d78-ac8f-d587d6ae4c38')\"\n",
              "            title=\"Suggest charts\"\n",
              "            style=\"display:none;\">\n",
              "\n",
              "<svg xmlns=\"http://www.w3.org/2000/svg\" height=\"24px\"viewBox=\"0 0 24 24\"\n",
              "     width=\"24px\">\n",
              "    <g>\n",
              "        <path d=\"M19 3H5c-1.1 0-2 .9-2 2v14c0 1.1.9 2 2 2h14c1.1 0 2-.9 2-2V5c0-1.1-.9-2-2-2zM9 17H7v-7h2v7zm4 0h-2V7h2v10zm4 0h-2v-4h2v4z\"/>\n",
              "    </g>\n",
              "</svg>\n",
              "  </button>\n",
              "\n",
              "<style>\n",
              "  .colab-df-quickchart {\n",
              "      --bg-color: #E8F0FE;\n",
              "      --fill-color: #1967D2;\n",
              "      --hover-bg-color: #E2EBFA;\n",
              "      --hover-fill-color: #174EA6;\n",
              "      --disabled-fill-color: #AAA;\n",
              "      --disabled-bg-color: #DDD;\n",
              "  }\n",
              "\n",
              "  [theme=dark] .colab-df-quickchart {\n",
              "      --bg-color: #3B4455;\n",
              "      --fill-color: #D2E3FC;\n",
              "      --hover-bg-color: #434B5C;\n",
              "      --hover-fill-color: #FFFFFF;\n",
              "      --disabled-bg-color: #3B4455;\n",
              "      --disabled-fill-color: #666;\n",
              "  }\n",
              "\n",
              "  .colab-df-quickchart {\n",
              "    background-color: var(--bg-color);\n",
              "    border: none;\n",
              "    border-radius: 50%;\n",
              "    cursor: pointer;\n",
              "    display: none;\n",
              "    fill: var(--fill-color);\n",
              "    height: 32px;\n",
              "    padding: 0;\n",
              "    width: 32px;\n",
              "  }\n",
              "\n",
              "  .colab-df-quickchart:hover {\n",
              "    background-color: var(--hover-bg-color);\n",
              "    box-shadow: 0 1px 2px rgba(60, 64, 67, 0.3), 0 1px 3px 1px rgba(60, 64, 67, 0.15);\n",
              "    fill: var(--button-hover-fill-color);\n",
              "  }\n",
              "\n",
              "  .colab-df-quickchart-complete:disabled,\n",
              "  .colab-df-quickchart-complete:disabled:hover {\n",
              "    background-color: var(--disabled-bg-color);\n",
              "    fill: var(--disabled-fill-color);\n",
              "    box-shadow: none;\n",
              "  }\n",
              "\n",
              "  .colab-df-spinner {\n",
              "    border: 2px solid var(--fill-color);\n",
              "    border-color: transparent;\n",
              "    border-bottom-color: var(--fill-color);\n",
              "    animation:\n",
              "      spin 1s steps(1) infinite;\n",
              "  }\n",
              "\n",
              "  @keyframes spin {\n",
              "    0% {\n",
              "      border-color: transparent;\n",
              "      border-bottom-color: var(--fill-color);\n",
              "      border-left-color: var(--fill-color);\n",
              "    }\n",
              "    20% {\n",
              "      border-color: transparent;\n",
              "      border-left-color: var(--fill-color);\n",
              "      border-top-color: var(--fill-color);\n",
              "    }\n",
              "    30% {\n",
              "      border-color: transparent;\n",
              "      border-left-color: var(--fill-color);\n",
              "      border-top-color: var(--fill-color);\n",
              "      border-right-color: var(--fill-color);\n",
              "    }\n",
              "    40% {\n",
              "      border-color: transparent;\n",
              "      border-right-color: var(--fill-color);\n",
              "      border-top-color: var(--fill-color);\n",
              "    }\n",
              "    60% {\n",
              "      border-color: transparent;\n",
              "      border-right-color: var(--fill-color);\n",
              "    }\n",
              "    80% {\n",
              "      border-color: transparent;\n",
              "      border-right-color: var(--fill-color);\n",
              "      border-bottom-color: var(--fill-color);\n",
              "    }\n",
              "    90% {\n",
              "      border-color: transparent;\n",
              "      border-bottom-color: var(--fill-color);\n",
              "    }\n",
              "  }\n",
              "</style>\n",
              "\n",
              "  <script>\n",
              "    async function quickchart(key) {\n",
              "      const quickchartButtonEl =\n",
              "        document.querySelector('#' + key + ' button');\n",
              "      quickchartButtonEl.disabled = true;  // To prevent multiple clicks.\n",
              "      quickchartButtonEl.classList.add('colab-df-spinner');\n",
              "      try {\n",
              "        const charts = await google.colab.kernel.invokeFunction(\n",
              "            'suggestCharts', [key], {});\n",
              "      } catch (error) {\n",
              "        console.error('Error during call to suggestCharts:', error);\n",
              "      }\n",
              "      quickchartButtonEl.classList.remove('colab-df-spinner');\n",
              "      quickchartButtonEl.classList.add('colab-df-quickchart-complete');\n",
              "    }\n",
              "    (() => {\n",
              "      let quickchartButtonEl =\n",
              "        document.querySelector('#df-2b6a7f06-1ca7-4d78-ac8f-d587d6ae4c38 button');\n",
              "      quickchartButtonEl.style.display =\n",
              "        google.colab.kernel.accessAllowed ? 'block' : 'none';\n",
              "    })();\n",
              "  </script>\n",
              "</div>\n",
              "\n",
              "  <div id=\"id_ae9989e6-c7a8-45d7-8cab-7c6936b6c218\">\n",
              "    <style>\n",
              "      .colab-df-generate {\n",
              "        background-color: #E8F0FE;\n",
              "        border: none;\n",
              "        border-radius: 50%;\n",
              "        cursor: pointer;\n",
              "        display: none;\n",
              "        fill: #1967D2;\n",
              "        height: 32px;\n",
              "        padding: 0 0 0 0;\n",
              "        width: 32px;\n",
              "      }\n",
              "\n",
              "      .colab-df-generate:hover {\n",
              "        background-color: #E2EBFA;\n",
              "        box-shadow: 0px 1px 2px rgba(60, 64, 67, 0.3), 0px 1px 3px 1px rgba(60, 64, 67, 0.15);\n",
              "        fill: #174EA6;\n",
              "      }\n",
              "\n",
              "      [theme=dark] .colab-df-generate {\n",
              "        background-color: #3B4455;\n",
              "        fill: #D2E3FC;\n",
              "      }\n",
              "\n",
              "      [theme=dark] .colab-df-generate:hover {\n",
              "        background-color: #434B5C;\n",
              "        box-shadow: 0px 1px 3px 1px rgba(0, 0, 0, 0.15);\n",
              "        filter: drop-shadow(0px 1px 2px rgba(0, 0, 0, 0.3));\n",
              "        fill: #FFFFFF;\n",
              "      }\n",
              "    </style>\n",
              "    <button class=\"colab-df-generate\" onclick=\"generateWithVariable('df')\"\n",
              "            title=\"Generate code using this dataframe.\"\n",
              "            style=\"display:none;\">\n",
              "\n",
              "  <svg xmlns=\"http://www.w3.org/2000/svg\" height=\"24px\"viewBox=\"0 0 24 24\"\n",
              "       width=\"24px\">\n",
              "    <path d=\"M7,19H8.4L18.45,9,17,7.55,7,17.6ZM5,21V16.75L18.45,3.32a2,2,0,0,1,2.83,0l1.4,1.43a1.91,1.91,0,0,1,.58,1.4,1.91,1.91,0,0,1-.58,1.4L9.25,21ZM18.45,9,17,7.55Zm-12,3A5.31,5.31,0,0,0,4.9,8.1,5.31,5.31,0,0,0,1,6.5,5.31,5.31,0,0,0,4.9,4.9,5.31,5.31,0,0,0,6.5,1,5.31,5.31,0,0,0,8.1,4.9,5.31,5.31,0,0,0,12,6.5,5.46,5.46,0,0,0,6.5,12Z\"/>\n",
              "  </svg>\n",
              "    </button>\n",
              "    <script>\n",
              "      (() => {\n",
              "      const buttonEl =\n",
              "        document.querySelector('#id_ae9989e6-c7a8-45d7-8cab-7c6936b6c218 button.colab-df-generate');\n",
              "      buttonEl.style.display =\n",
              "        google.colab.kernel.accessAllowed ? 'block' : 'none';\n",
              "\n",
              "      buttonEl.onclick = () => {\n",
              "        google.colab.notebook.generateWithVariable('df');\n",
              "      }\n",
              "      })();\n",
              "    </script>\n",
              "  </div>\n",
              "\n",
              "    </div>\n",
              "  </div>\n"
            ],
            "application/vnd.google.colaboratory.intrinsic+json": {
              "type": "dataframe",
              "variable_name": "df",
              "summary": "{\n  \"name\": \"df\",\n  \"rows\": 2,\n  \"fields\": [\n    {\n      \"column\": \"Language\",\n      \"properties\": {\n        \"dtype\": \"string\",\n        \"num_unique_values\": 2,\n        \"samples\": [\n          \"Python\",\n          \"C++\"\n        ],\n        \"semantic_type\": \"\",\n        \"description\": \"\"\n      }\n    },\n    {\n      \"column\": \"Super effienct (ms)\",\n      \"properties\": {\n        \"dtype\": \"number\",\n        \"std\": 16,\n        \"min\": 516,\n        \"max\": 539,\n        \"num_unique_values\": 2,\n        \"samples\": [\n          516,\n          539\n        ],\n        \"semantic_type\": \"\",\n        \"description\": \"\"\n      }\n    },\n    {\n      \"column\": \"Sort solution (ms)\",\n      \"properties\": {\n        \"dtype\": \"number\",\n        \"std\": 40,\n        \"min\": 485,\n        \"max\": 542,\n        \"num_unique_values\": 2,\n        \"samples\": [\n          485,\n          542\n        ],\n        \"semantic_type\": \"\",\n        \"description\": \"\"\n      }\n    }\n  ]\n}"
            }
          },
          "metadata": {}
        }
      ],
      "source": [
        "\n",
        "# Import the Pandas library\n",
        "import pandas as pd\n",
        "\n",
        "# Create a sample DataFrame\n",
        "data = {'Language': ['C++', 'Python'],\n",
        "        'Super effienct (ms)': [539, 516],\n",
        "        'Sort solution (ms)': [542, 485]}\n",
        "\n",
        "df = pd.DataFrame(data)\n",
        "\n",
        "# Display the table\n",
        "display(df)"
      ]
    }
  ],
  "metadata": {
    "colab": {
      "provenance": []
    },
    "kernelspec": {
      "display_name": "Python 3",
      "name": "python3"
    },
    "language_info": {
      "name": "python"
    }
  },
  "nbformat": 4,
  "nbformat_minor": 0
}